{
 "cells": [
  {
   "cell_type": "code",
   "execution_count": null,
   "metadata": {
    "colab": {
     "base_uri": "https://localhost:8080/"
    },
    "id": "5BJ6V6QTIbK2",
    "outputId": "472fb78b-c366-4715-8abb-77e1f70ef0d8",
    "scrolled": true
   },
   "outputs": [],
   "source": [
    "!pip install transformers\n",
    "!pip install ipywidgets\n",
    "!pip install emoji\n",
    "pip install --upgrade jupyter"
   ]
  },
  {
   "cell_type": "code",
   "execution_count": null,
   "metadata": {
    "scrolled": true
   },
   "outputs": [],
   "source": [
    "pip install pandas_profiling"
   ]
  },
  {
   "cell_type": "markdown",
   "metadata": {
    "id": "xSDdBEIrlPue"
   },
   "source": [
    "# Install Package"
   ]
  },
  {
   "cell_type": "code",
   "execution_count": 1,
   "metadata": {
    "id": "uCa3PrYFGr_8"
   },
   "outputs": [
    {
     "name": "stderr",
     "output_type": "stream",
     "text": [
      "/var/folders/6t/smh8jz1x54qg9kcw_mdl7zdc0000gn/T/ipykernel_76959/92248991.py:50: DeprecationWarning: `import pandas_profiling` is going to be deprecated by April 1st. Please use `import ydata_profiling` instead.\n",
      "  from pandas_profiling import ProfileReport\n"
     ]
    }
   ],
   "source": [
    "#general purpose packages\n",
    "import numpy as np\n",
    "import pandas as pd\n",
    "\n",
    "import tensorflow as tf\n",
    "import matplotlib.pyplot as plt\n",
    "import seaborn as sns\n",
    "\n",
    "#data processing\n",
    "import re, string\n",
    "\n",
    "\n",
    "import emoji\n",
    "import nltk\n",
    "from collections import Counter\n",
    "\n",
    "from sklearn import preprocessing\n",
    "from imblearn.over_sampling import RandomOverSampler\n",
    "from sklearn.model_selection import train_test_split\n",
    "\n",
    "\n",
    "#Naive Bayes\n",
    "from sklearn.feature_extraction.text import CountVectorizer\n",
    "from sklearn.feature_extraction.text import TfidfTransformer\n",
    "from sklearn.model_selection import train_test_split\n",
    "from sklearn.preprocessing import LabelEncoder\n",
    "from sklearn.feature_extraction.text import CountVectorizer, TfidfTransformer\n",
    "from sklearn.naive_bayes import MultinomialNB\n",
    "\n",
    "#transformers\n",
    "from transformers import BertTokenizerFast\n",
    "from transformers import TFBertModel\n",
    "from transformers import RobertaTokenizerFast\n",
    "from transformers import TFRobertaModel\n",
    "from transformers import TFAutoModel, AutoTokenizer\n",
    "\n",
    "#ROS\n",
    "from imblearn.over_sampling import RandomOverSampler\n",
    "\n",
    "\n",
    "#keras\n",
    "import tensorflow as tf\n",
    "from tensorflow import keras\n",
    "\n",
    "#metrics\n",
    "from sklearn.metrics import accuracy_score, f1_score\n",
    "from sklearn.metrics import classification_report, confusion_matrix\n",
    "\n",
    "#ProfileReport\n",
    "from pandas_profiling import ProfileReport\n",
    "\n",
    "#goole file\n",
    "# from google.colab import files\n",
    "\n",
    "seed = 42"
   ]
  },
  {
   "cell_type": "markdown",
   "metadata": {},
   "source": [
    "# Define fuction "
   ]
  },
  {
   "cell_type": "code",
   "execution_count": 2,
   "metadata": {},
   "outputs": [],
   "source": [
    "def conf_matrix(y, y_pred, title):\n",
    "    fig, ax =plt.subplots(figsize=(5,5))\n",
    "    labels=['Negative', 'Neutral', 'Positive']\n",
    "    ax=sns.heatmap(confusion_matrix(y, y_pred), annot=True, cmap=\"Blues\", fmt='g', cbar=False, annot_kws={\"size\":25})\n",
    "    plt.title(title, fontsize=20)\n",
    "    ax.xaxis.set_ticklabels(labels, fontsize=17) \n",
    "    ax.yaxis.set_ticklabels(labels, fontsize=17)\n",
    "    ax.set_ylabel('Test', fontsize=20)\n",
    "    ax.set_xlabel('Predicted', fontsize=20)\n",
    "    plt.show()"
   ]
  },
  {
   "cell_type": "markdown",
   "metadata": {},
   "source": [
    "# Loading the data"
   ]
  },
  {
   "cell_type": "code",
   "execution_count": 3,
   "metadata": {
    "colab": {
     "base_uri": "https://localhost:8080/",
     "height": 419
    },
    "id": "stMJvOS3IglM",
    "outputId": "4caf854b-2f26-4fb0-e047-8bd300c062cd"
   },
   "outputs": [
    {
     "data": {
      "text/html": [
       "<div>\n",
       "<style scoped>\n",
       "    .dataframe tbody tr th:only-of-type {\n",
       "        vertical-align: middle;\n",
       "    }\n",
       "\n",
       "    .dataframe tbody tr th {\n",
       "        vertical-align: top;\n",
       "    }\n",
       "\n",
       "    .dataframe thead th {\n",
       "        text-align: right;\n",
       "    }\n",
       "</style>\n",
       "<table border=\"1\" class=\"dataframe\">\n",
       "  <thead>\n",
       "    <tr style=\"text-align: right;\">\n",
       "      <th></th>\n",
       "      <th>Unnamed: 0</th>\n",
       "      <th>Comment</th>\n",
       "      <th>id</th>\n",
       "      <th>date</th>\n",
       "      <th>Pos</th>\n",
       "      <th>Neg</th>\n",
       "      <th>Neu</th>\n",
       "      <th>Car brand</th>\n",
       "      <th>sentiment_score</th>\n",
       "    </tr>\n",
       "  </thead>\n",
       "  <tbody>\n",
       "    <tr>\n",
       "      <th>0</th>\n",
       "      <td>1</td>\n",
       "      <td>I'm not sure I have ever commented on a video,...</td>\n",
       "      <td>\\n @charlesconnor1737\\n</td>\n",
       "      <td>3 years ago</td>\n",
       "      <td>0.207</td>\n",
       "      <td>0.070</td>\n",
       "      <td>0.723</td>\n",
       "      <td>Alfa Romeo</td>\n",
       "      <td>5</td>\n",
       "    </tr>\n",
       "    <tr>\n",
       "      <th>1</th>\n",
       "      <td>2</td>\n",
       "      <td>I’ve always done the cup holder test in all my...</td>\n",
       "      <td>\\n @gllegacy87\\n</td>\n",
       "      <td>3 years ago</td>\n",
       "      <td>0.206</td>\n",
       "      <td>0.000</td>\n",
       "      <td>0.794</td>\n",
       "      <td>Alfa Romeo</td>\n",
       "      <td>4</td>\n",
       "    </tr>\n",
       "    <tr>\n",
       "      <th>2</th>\n",
       "      <td>3</td>\n",
       "      <td>I absolutely love the design of the Stelvio an...</td>\n",
       "      <td>\\n @driftattack11\\n</td>\n",
       "      <td>4 years ago</td>\n",
       "      <td>0.133</td>\n",
       "      <td>0.136</td>\n",
       "      <td>0.731</td>\n",
       "      <td>Alfa Romeo</td>\n",
       "      <td>2</td>\n",
       "    </tr>\n",
       "    <tr>\n",
       "      <th>3</th>\n",
       "      <td>4</td>\n",
       "      <td>I believe the reason behind the column mounted...</td>\n",
       "      <td>\\n @Black2005Lotus\\n</td>\n",
       "      <td>4 years ago</td>\n",
       "      <td>0.100</td>\n",
       "      <td>0.082</td>\n",
       "      <td>0.818</td>\n",
       "      <td>Alfa Romeo</td>\n",
       "      <td>4</td>\n",
       "    </tr>\n",
       "    <tr>\n",
       "      <th>4</th>\n",
       "      <td>5</td>\n",
       "      <td>Finally! As a previous 4C Spider and now Giuli...</td>\n",
       "      <td>\\n @DrachenBlasen\\n</td>\n",
       "      <td>4 years ago</td>\n",
       "      <td>0.171</td>\n",
       "      <td>0.027</td>\n",
       "      <td>0.802</td>\n",
       "      <td>Alfa Romeo</td>\n",
       "      <td>5</td>\n",
       "    </tr>\n",
       "    <tr>\n",
       "      <th>...</th>\n",
       "      <td>...</td>\n",
       "      <td>...</td>\n",
       "      <td>...</td>\n",
       "      <td>...</td>\n",
       "      <td>...</td>\n",
       "      <td>...</td>\n",
       "      <td>...</td>\n",
       "      <td>...</td>\n",
       "      <td>...</td>\n",
       "    </tr>\n",
       "    <tr>\n",
       "      <th>10317</th>\n",
       "      <td>531</td>\n",
       "      <td>This is a woman's car. No man should buy this ...</td>\n",
       "      <td>\\n @justinharrison8987\\n</td>\n",
       "      <td>11 months ago</td>\n",
       "      <td>0.000</td>\n",
       "      <td>0.196</td>\n",
       "      <td>0.804</td>\n",
       "      <td>Porsche Macan</td>\n",
       "      <td>5</td>\n",
       "    </tr>\n",
       "    <tr>\n",
       "      <th>10318</th>\n",
       "      <td>532</td>\n",
       "      <td>Cringe.</td>\n",
       "      <td>\\n @Darionn17\\n</td>\n",
       "      <td>11 months ago</td>\n",
       "      <td>0.000</td>\n",
       "      <td>0.000</td>\n",
       "      <td>1.000</td>\n",
       "      <td>Porsche Macan</td>\n",
       "      <td>1</td>\n",
       "    </tr>\n",
       "    <tr>\n",
       "      <th>10319</th>\n",
       "      <td>533</td>\n",
       "      <td>Cringe.</td>\n",
       "      <td>\\n @ec2233\\n</td>\n",
       "      <td>11 months ago</td>\n",
       "      <td>0.000</td>\n",
       "      <td>0.000</td>\n",
       "      <td>1.000</td>\n",
       "      <td>Porsche Macan</td>\n",
       "      <td>1</td>\n",
       "    </tr>\n",
       "    <tr>\n",
       "      <th>10320</th>\n",
       "      <td>534</td>\n",
       "      <td>How I hate this „women have to be in everythin...</td>\n",
       "      <td>\\n @sedieflow1132\\n</td>\n",
       "      <td>11 months ago</td>\n",
       "      <td>0.125</td>\n",
       "      <td>0.174</td>\n",
       "      <td>0.701</td>\n",
       "      <td>Porsche Macan</td>\n",
       "      <td>1</td>\n",
       "    </tr>\n",
       "    <tr>\n",
       "      <th>10321</th>\n",
       "      <td>535</td>\n",
       "      <td>ugly car</td>\n",
       "      <td>\\n @n33dw33d3333\\n</td>\n",
       "      <td>11 months ago</td>\n",
       "      <td>0.000</td>\n",
       "      <td>0.767</td>\n",
       "      <td>0.233</td>\n",
       "      <td>Porsche Macan</td>\n",
       "      <td>1</td>\n",
       "    </tr>\n",
       "  </tbody>\n",
       "</table>\n",
       "<p>10322 rows × 9 columns</p>\n",
       "</div>"
      ],
      "text/plain": [
       "       Unnamed: 0                                            Comment  \\\n",
       "0               1  I'm not sure I have ever commented on a video,...   \n",
       "1               2  I’ve always done the cup holder test in all my...   \n",
       "2               3  I absolutely love the design of the Stelvio an...   \n",
       "3               4  I believe the reason behind the column mounted...   \n",
       "4               5  Finally! As a previous 4C Spider and now Giuli...   \n",
       "...           ...                                                ...   \n",
       "10317         531  This is a woman's car. No man should buy this ...   \n",
       "10318         532                                            Cringe.   \n",
       "10319         533                                            Cringe.   \n",
       "10320         534  How I hate this „women have to be in everythin...   \n",
       "10321         535                                           ugly car   \n",
       "\n",
       "                              id           date    Pos    Neg    Neu  \\\n",
       "0       \\n @charlesconnor1737\\n     3 years ago  0.207  0.070  0.723   \n",
       "1              \\n @gllegacy87\\n     3 years ago  0.206  0.000  0.794   \n",
       "2           \\n @driftattack11\\n     4 years ago  0.133  0.136  0.731   \n",
       "3          \\n @Black2005Lotus\\n     4 years ago  0.100  0.082  0.818   \n",
       "4           \\n @DrachenBlasen\\n     4 years ago  0.171  0.027  0.802   \n",
       "...                          ...            ...    ...    ...    ...   \n",
       "10317  \\n @justinharrison8987\\n   11 months ago  0.000  0.196  0.804   \n",
       "10318           \\n @Darionn17\\n   11 months ago  0.000  0.000  1.000   \n",
       "10319              \\n @ec2233\\n   11 months ago  0.000  0.000  1.000   \n",
       "10320       \\n @sedieflow1132\\n   11 months ago  0.125  0.174  0.701   \n",
       "10321        \\n @n33dw33d3333\\n   11 months ago  0.000  0.767  0.233   \n",
       "\n",
       "           Car brand  sentiment_score  \n",
       "0         Alfa Romeo                5  \n",
       "1         Alfa Romeo                4  \n",
       "2         Alfa Romeo                2  \n",
       "3         Alfa Romeo                4  \n",
       "4         Alfa Romeo                5  \n",
       "...              ...              ...  \n",
       "10317  Porsche Macan                5  \n",
       "10318  Porsche Macan                1  \n",
       "10319  Porsche Macan                1  \n",
       "10320  Porsche Macan                1  \n",
       "10321  Porsche Macan                1  \n",
       "\n",
       "[10322 rows x 9 columns]"
      ]
     },
     "execution_count": 3,
     "metadata": {},
     "output_type": "execute_result"
    }
   ],
   "source": [
    "raw_df = pd.read_csv(\"/Users/apple/Desktop/combined_with_scores.csv\")\n",
    "raw_df"
   ]
  },
  {
   "cell_type": "markdown",
   "metadata": {},
   "source": [
    "# Delete Duplicate tweets ??"
   ]
  },
  {
   "cell_type": "code",
   "execution_count": 13,
   "metadata": {
    "scrolled": true
   },
   "outputs": [
    {
     "name": "stdout",
     "output_type": "stream",
     "text": [
      "0 rows (0.00%) have been removed.\n"
     ]
    }
   ],
   "source": [
    "# Assuming you have loaded the dataframe as `raw_df`\n",
    "\n",
    "initial_rows = len(raw_df)  # Count the rows before removing duplicates\n",
    "\n",
    "raw_df.drop_duplicates(subset='Comment', inplace=True)\n",
    "\n",
    "final_rows = len(raw_df)  # Count the rows after removing duplicates\n",
    "\n",
    "# Calculate the number and percentage of rows removed\n",
    "rows_removed = initial_rows - final_rows\n",
    "percentage_removed = (rows_removed / initial_rows) * 100\n",
    "\n",
    "print(f\"{rows_removed} rows ({percentage_removed:.2f}%) have been removed.\")\n"
   ]
  },
  {
   "cell_type": "code",
   "execution_count": 14,
   "metadata": {
    "scrolled": true
   },
   "outputs": [
    {
     "name": "stdout",
     "output_type": "stream",
     "text": [
      "<class 'pandas.core.frame.DataFrame'>\n",
      "Int64Index: 9994 entries, 0 to 10321\n",
      "Data columns (total 9 columns):\n",
      " #   Column           Non-Null Count  Dtype  \n",
      "---  ------           --------------  -----  \n",
      " 0   Unnamed: 0       9994 non-null   int64  \n",
      " 1   Comment          9993 non-null   object \n",
      " 2   id               9994 non-null   object \n",
      " 3   date             9994 non-null   object \n",
      " 4   Pos              9994 non-null   float64\n",
      " 5   Neg              9994 non-null   float64\n",
      " 6   Neu              9994 non-null   float64\n",
      " 7   Car brand        9994 non-null   object \n",
      " 8   sentiment_score  9994 non-null   int64  \n",
      "dtypes: float64(3), int64(2), object(4)\n",
      "memory usage: 780.8+ KB\n"
     ]
    }
   ],
   "source": [
    "raw_df.info()"
   ]
  },
  {
   "cell_type": "markdown",
   "metadata": {},
   "source": [
    "# Tweets count by date"
   ]
  },
  {
   "cell_type": "code",
   "execution_count": 8,
   "metadata": {},
   "outputs": [],
   "source": [
    "tweets_per_day = raw_df['date'].value_counts().sort_index().reset_index(name='counts')"
   ]
  },
  {
   "cell_type": "code",
   "execution_count": 9,
   "metadata": {},
   "outputs": [
    {
     "name": "stderr",
     "output_type": "stream",
     "text": [
      "/var/folders/6t/smh8jz1x54qg9kcw_mdl7zdc0000gn/T/ipykernel_76959/1346119044.py:2: FutureWarning: \n",
      "\n",
      "The `ci` parameter is deprecated. Use `errorbar=('ci', False)` for the same effect.\n",
      "\n",
      "  ax = sns.barplot(x='index', y='counts', data=tweets_per_day,edgecolor = 'black',ci=False, palette='Blues_r')\n"
     ]
    },
    {
     "data": {
      "image/png": "[encoded data removed]",
      "text/plain": [
       "<Figure size 2000x500 with 1 Axes>"
      ]
     },
     "metadata": {},
     "output_type": "display_data"
    }
   ],
   "source": [
    "plt.figure(figsize=(20,5))\n",
    "ax = sns.barplot(x='index', y='counts', data=tweets_per_day,edgecolor = 'black',ci=False, palette='Blues_r')\n",
    "plt.title('Tweets count by date')\n",
    "plt.yticks([])\n",
    "ax.bar_label(ax.containers[0])\n",
    "plt.ylabel('count')\n",
    "plt.xlabel('')\n",
    "plt.show()"
   ]
  },
  {
   "cell_type": "code",
   "execution_count": null,
   "metadata": {},
   "outputs": [],
   "source": []
  },
  {
   "cell_type": "code",
   "execution_count": null,
   "metadata": {},
   "outputs": [],
   "source": [
    "# import pandas as pd\n",
    "# from pandas_profiling import ProfileReport\n",
    "# raw_df = pd.read_csv('/Users/apple/Desktop/combined.csv')\n",
    "\n",
    "# profile = ProfileReport(raw_df, title=\"Pandas Profiling Report\")\n",
    "# profile.to_notebook_iframe()"
   ]
  },
  {
   "cell_type": "markdown",
   "metadata": {},
   "source": [
    "raw_df 沒處理\n",
    "df 包含comment sentiment (train_data)\n",
    "test_df\n",
    "clean_df df"
   ]
  },
  {
   "cell_type": "markdown",
   "metadata": {},
   "source": [
    "# 舊的Classify the sentiment label from vader into 123"
   ]
  },
  {
   "cell_type": "code",
   "execution_count": null,
   "metadata": {
    "id": "ffWL5IZSJbLC",
    "scrolled": true
   },
   "outputs": [],
   "source": [
    "# MAX_LEN = 512\n",
    "\n",
    "\n",
    "# data_array = raw_df.values.tolist().copy()\n",
    "# res_array = []\n",
    "\n",
    "# for item in data_array:\n",
    "#   rang = (0, 1, 2)\n",
    "#   if not isinstance(item[1], str): continue\n",
    "#   if len(item[1]) > MAX_LEN//2: continue\n",
    "#   rate = item[-3:]\n",
    "#   # if rate[0] not in rang or rate[1] not in rang or rate[2] not in rang: continue\n",
    "#   tmp = 0\n",
    "#   if rate[0] > rate[1] and rate[0] > rate[2]: tmp = 0\n",
    "#   elif rate[1] > rate[0] and rate[1] > rate[2]: tmp = 1\n",
    "#   else: tmp = 2\n",
    "#   res_array.append([item[1], tmp])"
   ]
  },
  {
   "cell_type": "markdown",
   "metadata": {},
   "source": [
    "# Train-Test split"
   ]
  },
  {
   "cell_type": "markdown",
   "metadata": {},
   "source": [
    "# 舊的"
   ]
  },
  {
   "cell_type": "code",
   "execution_count": null,
   "metadata": {},
   "outputs": [],
   "source": [
    "# test_num = len(res_array) * 3 // 10\n",
    "# df = pd.DataFrame(res_array[:len(res_array)-test_num], columns = ['comment','sentiment_score'])\n",
    "# test_df = pd.DataFrame(res_array[-test_num:], columns = ['comment','sentiment_score'])\n",
    "\n",
    "# df = df.dropna()\n",
    "# test_df = test_df.dropna()"
   ]
  },
  {
   "cell_type": "code",
   "execution_count": null,
   "metadata": {},
   "outputs": [],
   "source": [
    "# # 确定数据集的大小\n",
    "# total_len = len(res_array)\n",
    "\n",
    "# # 确定测试集的大小\n",
    "# test_num = int(total_len * 0.3)\n",
    "\n",
    "# # 使用数据创建训练集和测试集的DataFrame\n",
    "# df = pd.DataFrame(res_array[:-test_num], columns=['comment', 'sentiment_score'])\n",
    "# test_df = pd.DataFrame(res_array[-test_num:], columns=['comment', 'sentiment_score'])\n",
    "\n",
    "# # 移除含有NaN值的行\n",
    "# df = df.dropna()\n",
    "# test_df = test_df.dropna()"
   ]
  },
  {
   "cell_type": "markdown",
   "metadata": {},
   "source": [
    "# 新方法"
   ]
  },
  {
   "cell_type": "code",
   "execution_count": 15,
   "metadata": {},
   "outputs": [
    {
     "data": {
      "text/html": [
       "<div>\n",
       "<style scoped>\n",
       "    .dataframe tbody tr th:only-of-type {\n",
       "        vertical-align: middle;\n",
       "    }\n",
       "\n",
       "    .dataframe tbody tr th {\n",
       "        vertical-align: top;\n",
       "    }\n",
       "\n",
       "    .dataframe thead th {\n",
       "        text-align: right;\n",
       "    }\n",
       "</style>\n",
       "<table border=\"1\" class=\"dataframe\">\n",
       "  <thead>\n",
       "    <tr style=\"text-align: right;\">\n",
       "      <th></th>\n",
       "      <th>Comment</th>\n",
       "      <th>sentiment_score</th>\n",
       "    </tr>\n",
       "  </thead>\n",
       "  <tbody>\n",
       "    <tr>\n",
       "      <th>7133</th>\n",
       "      <td>الحلم</td>\n",
       "      <td>5</td>\n",
       "    </tr>\n",
       "    <tr>\n",
       "      <th>713</th>\n",
       "      <td>1:56 on loop</td>\n",
       "      <td>1</td>\n",
       "    </tr>\n",
       "    <tr>\n",
       "      <th>6722</th>\n",
       "      <td>So whats popin pops out on dashbord</td>\n",
       "      <td>1</td>\n",
       "    </tr>\n",
       "    <tr>\n",
       "      <th>7288</th>\n",
       "      <td>Wish to have this one someday</td>\n",
       "      <td>5</td>\n",
       "    </tr>\n",
       "    <tr>\n",
       "      <th>7185</th>\n",
       "      <td>Mat is the best car reviewer on here!</td>\n",
       "      <td>5</td>\n",
       "    </tr>\n",
       "    <tr>\n",
       "      <th>...</th>\n",
       "      <td>...</td>\n",
       "      <td>...</td>\n",
       "    </tr>\n",
       "    <tr>\n",
       "      <th>9609</th>\n",
       "      <td>No ACC as standard where as even the smallest ...</td>\n",
       "      <td>2</td>\n",
       "    </tr>\n",
       "    <tr>\n",
       "      <th>3677</th>\n",
       "      <td>Yianni and Mat video is always a winner.</td>\n",
       "      <td>5</td>\n",
       "    </tr>\n",
       "    <tr>\n",
       "      <th>7146</th>\n",
       "      <td>Why people say it ma-kan (eat) instead of ma-c...</td>\n",
       "      <td>1</td>\n",
       "    </tr>\n",
       "    <tr>\n",
       "      <th>5708</th>\n",
       "      <td>looks like a cheap suv from kia.</td>\n",
       "      <td>2</td>\n",
       "    </tr>\n",
       "    <tr>\n",
       "      <th>7950</th>\n",
       "      <td>Old specialist timing gear??!!</td>\n",
       "      <td>1</td>\n",
       "    </tr>\n",
       "  </tbody>\n",
       "</table>\n",
       "<p>2999 rows × 2 columns</p>\n",
       "</div>"
      ],
      "text/plain": [
       "                                                Comment  sentiment_score\n",
       "7133                                             الحلم                 5\n",
       "713                                       1:56 on loop                 1\n",
       "6722                So whats popin pops out on dashbord                1\n",
       "7288                      Wish to have this one someday                5\n",
       "7185             Mat is the best car reviewer on here!                 5\n",
       "...                                                 ...              ...\n",
       "9609  No ACC as standard where as even the smallest ...                2\n",
       "3677           Yianni and Mat video is always a winner.                5\n",
       "7146  Why people say it ma-kan (eat) instead of ma-c...                1\n",
       "5708                   looks like a cheap suv from kia.                2\n",
       "7950                     Old specialist timing gear??!!                1\n",
       "\n",
       "[2999 rows x 2 columns]"
      ]
     },
     "execution_count": 15,
     "metadata": {},
     "output_type": "execute_result"
    }
   ],
   "source": [
    "from sklearn.model_selection import train_test_split\n",
    "import pandas as pd\n",
    "\n",
    "# 假设raw_df已经被定义并包含'Comment'和'sentiment_score'列\n",
    "\n",
    "# 仅保留'Comment'和'sentiment_score'两列\n",
    "raw_df = raw_df[['Comment', 'sentiment_score']]\n",
    "\n",
    "# 使用stratify参数确保在train和test中的'sentiment_score'平均分布\n",
    "train_df, test_df = train_test_split(raw_df, test_size=0.3, stratify=raw_df['sentiment_score'], random_state=42)\n",
    "\n",
    "# 如果你需要，你还可以去掉含有NaN的行\n",
    "train_df = train_df.dropna(subset=['Comment', 'sentiment_score'])\n",
    "test_df = test_df.dropna(subset=['Comment', 'sentiment_score'])\n",
    "test_df"
   ]
  },
  {
   "cell_type": "code",
   "execution_count": 16,
   "metadata": {},
   "outputs": [
    {
     "data": {
      "text/plain": [
       "Counter({4: 777, 1: 1720, 5: 2401, 2: 733, 3: 1363})"
      ]
     },
     "execution_count": 16,
     "metadata": {},
     "output_type": "execute_result"
    }
   ],
   "source": [
    "Counter(train_df['sentiment_score'].values)"
   ]
  },
  {
   "cell_type": "markdown",
   "metadata": {},
   "source": [
    "# Tweets Deep Cleaning (pre-procesisng)\n"
   ]
  },
  {
   "cell_type": "code",
   "execution_count": 17,
   "metadata": {},
   "outputs": [
    {
     "data": {
      "text/html": [
       "<div>\n",
       "<style scoped>\n",
       "    .dataframe tbody tr th:only-of-type {\n",
       "        vertical-align: middle;\n",
       "    }\n",
       "\n",
       "    .dataframe tbody tr th {\n",
       "        vertical-align: top;\n",
       "    }\n",
       "\n",
       "    .dataframe thead th {\n",
       "        text-align: right;\n",
       "    }\n",
       "</style>\n",
       "<table border=\"1\" class=\"dataframe\">\n",
       "  <thead>\n",
       "    <tr style=\"text-align: right;\">\n",
       "      <th></th>\n",
       "      <th>Comment</th>\n",
       "      <th>sentiment_score</th>\n",
       "    </tr>\n",
       "  </thead>\n",
       "  <tbody>\n",
       "    <tr>\n",
       "      <th>2166</th>\n",
       "      <td>Matt, the front isofix is the one you use when...</td>\n",
       "      <td>4</td>\n",
       "    </tr>\n",
       "    <tr>\n",
       "      <th>2514</th>\n",
       "      <td>Did he ever said right go ahead and buy for au...</td>\n",
       "      <td>1</td>\n",
       "    </tr>\n",
       "    <tr>\n",
       "      <th>3016</th>\n",
       "      <td>The Porsche is beautiful. I think it's in a cl...</td>\n",
       "      <td>4</td>\n",
       "    </tr>\n",
       "    <tr>\n",
       "      <th>5448</th>\n",
       "      <td>My dream Italian SUV! Wonderful job Joe.</td>\n",
       "      <td>5</td>\n",
       "    </tr>\n",
       "    <tr>\n",
       "      <th>9032</th>\n",
       "      <td>Ford puma on steroids</td>\n",
       "      <td>1</td>\n",
       "    </tr>\n",
       "    <tr>\n",
       "      <th>...</th>\n",
       "      <td>...</td>\n",
       "      <td>...</td>\n",
       "    </tr>\n",
       "    <tr>\n",
       "      <th>4365</th>\n",
       "      <td>Intresting on the gearbox not auto up shifting...</td>\n",
       "      <td>3</td>\n",
       "    </tr>\n",
       "    <tr>\n",
       "      <th>7162</th>\n",
       "      <td>Werder Bremen</td>\n",
       "      <td>5</td>\n",
       "    </tr>\n",
       "    <tr>\n",
       "      <th>7269</th>\n",
       "      <td>Imagine mat joining the grand tour</td>\n",
       "      <td>5</td>\n",
       "    </tr>\n",
       "    <tr>\n",
       "      <th>10284</th>\n",
       "      <td>Nah, she isn’t as good as Rory</td>\n",
       "      <td>3</td>\n",
       "    </tr>\n",
       "    <tr>\n",
       "      <th>8018</th>\n",
       "      <td>whats with divorce and Macan ? .... still didn...</td>\n",
       "      <td>2</td>\n",
       "    </tr>\n",
       "  </tbody>\n",
       "</table>\n",
       "<p>6994 rows × 2 columns</p>\n",
       "</div>"
      ],
      "text/plain": [
       "                                                 Comment  sentiment_score\n",
       "2166   Matt, the front isofix is the one you use when...                4\n",
       "2514   Did he ever said right go ahead and buy for au...                1\n",
       "3016   The Porsche is beautiful. I think it's in a cl...                4\n",
       "5448            My dream Italian SUV! Wonderful job Joe.                5\n",
       "9032                               Ford puma on steroids                1\n",
       "...                                                  ...              ...\n",
       "4365   Intresting on the gearbox not auto up shifting...                3\n",
       "7162                                       Werder Bremen                5\n",
       "7269                 Imagine mat joining the grand tour                 5\n",
       "10284                     Nah, she isn’t as good as Rory                3\n",
       "8018   whats with divorce and Macan ? .... still didn...                2\n",
       "\n",
       "[6994 rows x 2 columns]"
      ]
     },
     "execution_count": 17,
     "metadata": {},
     "output_type": "execute_result"
    }
   ],
   "source": [
    "clean_df = train_df[['Comment','sentiment_score']]\n",
    "clean_df"
   ]
  },
  {
   "cell_type": "markdown",
   "metadata": {},
   "source": [
    "# FUNCTIONS TO CLEAN THE TWEETS"
   ]
  },
  {
   "cell_type": "code",
   "execution_count": 18,
   "metadata": {},
   "outputs": [],
   "source": [
    "##CUSTOM DEFINED FUNCTIONS TO CLEAN THE TWEETS\n",
    "\n",
    "#Clean emojis from text\n",
    "# def strip_emoji(text):\n",
    "#     return re.sub(emoji.get_emoji_regexp(), r\"\", text) #remove emoji\n",
    "\n",
    "#Remove punctuations, links, mentions and \\r\\n new line characters\n",
    "def strip_all_entities(text): \n",
    "    text = text.replace('\\r', '').replace('\\n', ' ').replace('\\n', ' ').lower() #remove \\n and \\r and lowercase\n",
    "    text = re.sub(r\"(?:\\@|https?\\://)\\S+\", \"\", text) #remove links and mentions\n",
    "    text = re.sub(r'[^\\x00-\\x7f]',r'', text) #remove non utf8/ascii characters such as '\\x9a\\x91\\x97\\x9a\\x97'\n",
    "    banned_list= string.punctuation + 'Ã'+'±'+'ã'+'¼'+'â'+'»'+'§'\n",
    "    table = str.maketrans('', '', banned_list)\n",
    "    text = text.translate(table)\n",
    "    return text\n",
    "\n",
    "#clean hashtags at the end of the sentence, and keep those in the middle of the sentence by removing just the # symbol\n",
    "def clean_hashtags(tweet):\n",
    "    new_tweet = \" \".join(word.strip() for word in re.split('#(?!(?:hashtag)\\b)[\\w-]+(?=(?:\\s+#[\\w-]+)*\\s*$)', tweet)) #remove last hashtags\n",
    "    new_tweet2 = \" \".join(word.strip() for word in re.split('#|_', new_tweet)) #remove hashtags symbol from words in the middle of the sentence\n",
    "    return new_tweet2\n",
    "\n",
    "#Filter special characters such as & and $ present in some words\n",
    "def filter_chars(a):\n",
    "    sent = []\n",
    "    for word in a.split(' '):\n",
    "        if ('$' in word) | ('&' in word):\n",
    "            sent.append('')\n",
    "        else:\n",
    "            sent.append(word)\n",
    "    return ' '.join(sent)\n",
    "\n",
    "def remove_mult_spaces(text): # remove multiple spaces\n",
    "    return re.sub(\"\\s\\s+\" , \" \", text)"
   ]
  },
  {
   "cell_type": "code",
   "execution_count": 19,
   "metadata": {},
   "outputs": [],
   "source": [
    "texts_new = []\n",
    "for t in clean_df.Comment:\n",
    "    texts_new.append(remove_mult_spaces(filter_chars(clean_hashtags(strip_all_entities(t)))))"
   ]
  },
  {
   "cell_type": "code",
   "execution_count": 20,
   "metadata": {},
   "outputs": [],
   "source": [
    "texts_new_test = []\n",
    "for t in test_df.Comment:\n",
    "    texts_new_test.append(remove_mult_spaces(filter_chars(clean_hashtags(strip_all_entities(t)))))"
   ]
  },
  {
   "cell_type": "code",
   "execution_count": 21,
   "metadata": {},
   "outputs": [
    {
     "data": {
      "text/plain": [
       "6994"
      ]
     },
     "execution_count": 21,
     "metadata": {},
     "output_type": "execute_result"
    }
   ],
   "source": [
    "len(texts_new)"
   ]
  },
  {
   "cell_type": "code",
   "execution_count": 22,
   "metadata": {},
   "outputs": [],
   "source": [
    "clean_df['Comment'] = texts_new\n",
    "test_df['Comment'] = texts_new_test"
   ]
  },
  {
   "cell_type": "code",
   "execution_count": 23,
   "metadata": {
    "scrolled": true
   },
   "outputs": [
    {
     "data": {
      "text/html": [
       "<div>\n",
       "<style scoped>\n",
       "    .dataframe tbody tr th:only-of-type {\n",
       "        vertical-align: middle;\n",
       "    }\n",
       "\n",
       "    .dataframe tbody tr th {\n",
       "        vertical-align: top;\n",
       "    }\n",
       "\n",
       "    .dataframe thead th {\n",
       "        text-align: right;\n",
       "    }\n",
       "</style>\n",
       "<table border=\"1\" class=\"dataframe\">\n",
       "  <thead>\n",
       "    <tr style=\"text-align: right;\">\n",
       "      <th></th>\n",
       "      <th>Comment</th>\n",
       "      <th>sentiment_score</th>\n",
       "    </tr>\n",
       "  </thead>\n",
       "  <tbody>\n",
       "    <tr>\n",
       "      <th>7133</th>\n",
       "      <td></td>\n",
       "      <td>5</td>\n",
       "    </tr>\n",
       "    <tr>\n",
       "      <th>713</th>\n",
       "      <td>156 on loop</td>\n",
       "      <td>1</td>\n",
       "    </tr>\n",
       "    <tr>\n",
       "      <th>6722</th>\n",
       "      <td>so whats popin pops out on dashbord</td>\n",
       "      <td>1</td>\n",
       "    </tr>\n",
       "    <tr>\n",
       "      <th>7288</th>\n",
       "      <td>wish to have this one someday</td>\n",
       "      <td>5</td>\n",
       "    </tr>\n",
       "    <tr>\n",
       "      <th>7185</th>\n",
       "      <td>mat is the best car reviewer on here</td>\n",
       "      <td>5</td>\n",
       "    </tr>\n",
       "    <tr>\n",
       "      <th>...</th>\n",
       "      <td>...</td>\n",
       "      <td>...</td>\n",
       "    </tr>\n",
       "    <tr>\n",
       "      <th>9609</th>\n",
       "      <td>no acc as standard where as even the smallest ...</td>\n",
       "      <td>2</td>\n",
       "    </tr>\n",
       "    <tr>\n",
       "      <th>3677</th>\n",
       "      <td>yianni and mat video is always a winner</td>\n",
       "      <td>5</td>\n",
       "    </tr>\n",
       "    <tr>\n",
       "      <th>7146</th>\n",
       "      <td>why people say it makan eat instead of machan ...</td>\n",
       "      <td>1</td>\n",
       "    </tr>\n",
       "    <tr>\n",
       "      <th>5708</th>\n",
       "      <td>looks like a cheap suv from kia</td>\n",
       "      <td>2</td>\n",
       "    </tr>\n",
       "    <tr>\n",
       "      <th>7950</th>\n",
       "      <td>old specialist timing gear</td>\n",
       "      <td>1</td>\n",
       "    </tr>\n",
       "  </tbody>\n",
       "</table>\n",
       "<p>2999 rows × 2 columns</p>\n",
       "</div>"
      ],
      "text/plain": [
       "                                                Comment  sentiment_score\n",
       "7133                                                                   5\n",
       "713                                         156 on loop                1\n",
       "6722                so whats popin pops out on dashbord                1\n",
       "7288                      wish to have this one someday                5\n",
       "7185               mat is the best car reviewer on here                5\n",
       "...                                                 ...              ...\n",
       "9609  no acc as standard where as even the smallest ...                2\n",
       "3677            yianni and mat video is always a winner                5\n",
       "7146  why people say it makan eat instead of machan ...                1\n",
       "5708                    looks like a cheap suv from kia                2\n",
       "7950                         old specialist timing gear                1\n",
       "\n",
       "[2999 rows x 2 columns]"
      ]
     },
     "execution_count": 23,
     "metadata": {},
     "output_type": "execute_result"
    }
   ],
   "source": [
    "test_df"
   ]
  },
  {
   "cell_type": "code",
   "execution_count": null,
   "metadata": {},
   "outputs": [],
   "source": []
  },
  {
   "cell_type": "markdown",
   "metadata": {},
   "source": [
    "# "
   ]
  },
  {
   "cell_type": "markdown",
   "metadata": {},
   "source": [
    "# check removed too much text"
   ]
  },
  {
   "cell_type": "code",
   "execution_count": 29,
   "metadata": {},
   "outputs": [
    {
     "name": "stdout",
     "output_type": "stream",
     "text": [
      "In clean_df, there are 297 entries with less than 10 characters.\n"
     ]
    },
    {
     "data": {
      "image/png": "[encoded data removed]",
      "text/plain": [
       "<Figure size 700x500 with 1 Axes>"
      ]
     },
     "metadata": {},
     "output_type": "display_data"
    },
    {
     "name": "stdout",
     "output_type": "stream",
     "text": [
      "In test_df, there are 129 entries with less than 10 characters.\n"
     ]
    },
    {
     "data": {
      "image/png": "[encoded data removed]",
      "text/plain": [
       "<Figure size 700x500 with 1 Axes>"
      ]
     },
     "metadata": {},
     "output_type": "display_data"
    }
   ],
   "source": [
    "def print_and_plot(df, df_name):\n",
    "    # Assuming the column name is 'Comments'\n",
    "    df['text_len'] = df['Comment'].apply(lambda x: len(str(x)))\n",
    "    short_texts_count = len(df[df['text_len'] < 10])\n",
    "\n",
    "    # Print the result\n",
    "    print(f\"In {df_name}, there are {short_texts_count} entries with less than 10 characters.\")\n",
    "\n",
    "    # Visualization\n",
    "    plt.figure(figsize=(7,5))\n",
    "    ax = sns.countplot(x='text_len', data=df[df['text_len'] < 10], palette='mako')\n",
    "    plt.title(f'{df_name} Comments with less than 10 characters')\n",
    "    plt.yticks([])\n",
    "    ax.bar_label(ax.containers[0])\n",
    "    plt.ylabel('count')\n",
    "    plt.xlabel('Text Length')\n",
    "    plt.show()\n",
    "\n",
    "# Call the function for both DataFrames\n",
    "print_and_plot(clean_df, \"clean_df\")\n",
    "print_and_plot(test_df, \"test_df\")\n"
   ]
  },
  {
   "cell_type": "markdown",
   "metadata": {},
   "source": [
    "This means that some tweets contained only mentions, hashtags and links, which have been removed. We will drop these empty tweets and also those with less than 5 words."
   ]
  },
  {
   "cell_type": "code",
   "execution_count": 33,
   "metadata": {},
   "outputs": [
    {
     "name": "stdout",
     "output_type": "stream",
     "text": [
      "The percentage of rows dropped from clean_df: 0.00%\n",
      "The percentage of rows dropped from test_df: 0.00%\n"
     ]
    },
    {
     "name": "stderr",
     "output_type": "stream",
     "text": [
      "/var/folders/6t/smh8jz1x54qg9kcw_mdl7zdc0000gn/T/ipykernel_76959/2021965080.py:7: SettingWithCopyWarning: \n",
      "A value is trying to be set on a copy of a slice from a DataFrame\n",
      "\n",
      "See the caveats in the documentation: https://pandas.pydata.org/pandas-docs/stable/user_guide/indexing.html#returning-a-view-versus-a-copy\n",
      "  df.dropna(subset=['Comment'], inplace=True)\n",
      "/var/folders/6t/smh8jz1x54qg9kcw_mdl7zdc0000gn/T/ipykernel_76959/2021965080.py:7: SettingWithCopyWarning: \n",
      "A value is trying to be set on a copy of a slice from a DataFrame\n",
      "\n",
      "See the caveats in the documentation: https://pandas.pydata.org/pandas-docs/stable/user_guide/indexing.html#returning-a-view-versus-a-copy\n",
      "  df.dropna(subset=['Comment'], inplace=True)\n"
     ]
    }
   ],
   "source": [
    "# Store the original number of rows\n",
    "original_clean_df_count = len(clean_df)\n",
    "original_test_df_count = len(test_df)\n",
    "\n",
    "def drop_short_and_empty_tweets(df):\n",
    "    # Drop NaN or empty values\n",
    "    df.dropna(subset=['Comment'], inplace=True)\n",
    "\n",
    "    # Drop rows with less than 5 words\n",
    "    df = df[df['Comment'].apply(lambda x: len(str(x).split()) >= 5)]\n",
    "    return df\n",
    "\n",
    "clean_df = drop_short_and_empty_tweets(clean_df)\n",
    "test_df = drop_short_and_empty_tweets(test_df)\n",
    "\n",
    "# Calculate and print the percentage drop for clean_df\n",
    "percentage_drop_clean = (original_clean_df_count - len(clean_df)) / original_clean_df_count * 100\n",
    "print(f\"The percentage of rows dropped from clean_df: {percentage_drop_clean:.2f}%\")\n",
    "\n",
    "# Calculate and print the percentage drop for test_df\n",
    "percentage_drop_test = (original_test_df_count - len(test_df)) / original_test_df_count * 100\n",
    "print(f\"The percentage of rows dropped from test_df: {percentage_drop_test:.2f}%\")\n"
   ]
  },
  {
   "cell_type": "code",
   "execution_count": 36,
   "metadata": {},
   "outputs": [
    {
     "data": {
      "text/html": [
       "<div>\n",
       "<style scoped>\n",
       "    .dataframe tbody tr th:only-of-type {\n",
       "        vertical-align: middle;\n",
       "    }\n",
       "\n",
       "    .dataframe tbody tr th {\n",
       "        vertical-align: top;\n",
       "    }\n",
       "\n",
       "    .dataframe thead th {\n",
       "        text-align: right;\n",
       "    }\n",
       "</style>\n",
       "<table border=\"1\" class=\"dataframe\">\n",
       "  <thead>\n",
       "    <tr style=\"text-align: right;\">\n",
       "      <th></th>\n",
       "      <th>Comment</th>\n",
       "      <th>sentiment_score</th>\n",
       "      <th>text_len</th>\n",
       "    </tr>\n",
       "  </thead>\n",
       "  <tbody>\n",
       "    <tr>\n",
       "      <th>2166</th>\n",
       "      <td>matt the front isofix is the one you use when ...</td>\n",
       "      <td>4</td>\n",
       "      <td>131</td>\n",
       "    </tr>\n",
       "    <tr>\n",
       "      <th>2514</th>\n",
       "      <td>did he ever said right go ahead and buy for audi</td>\n",
       "      <td>1</td>\n",
       "      <td>48</td>\n",
       "    </tr>\n",
       "    <tr>\n",
       "      <th>3016</th>\n",
       "      <td>the porsche is beautiful i think its in a clas...</td>\n",
       "      <td>4</td>\n",
       "      <td>161</td>\n",
       "    </tr>\n",
       "    <tr>\n",
       "      <th>5448</th>\n",
       "      <td>my dream italian suv wonderful job joe</td>\n",
       "      <td>5</td>\n",
       "      <td>38</td>\n",
       "    </tr>\n",
       "    <tr>\n",
       "      <th>5032</th>\n",
       "      <td>haha its the getting tossed around while going...</td>\n",
       "      <td>2</td>\n",
       "      <td>111</td>\n",
       "    </tr>\n",
       "    <tr>\n",
       "      <th>...</th>\n",
       "      <td>...</td>\n",
       "      <td>...</td>\n",
       "      <td>...</td>\n",
       "    </tr>\n",
       "    <tr>\n",
       "      <th>4954</th>\n",
       "      <td>never seen torque measured in kw before should...</td>\n",
       "      <td>3</td>\n",
       "      <td>93</td>\n",
       "    </tr>\n",
       "    <tr>\n",
       "      <th>4365</th>\n",
       "      <td>intresting on the gearbox not auto up shifting...</td>\n",
       "      <td>3</td>\n",
       "      <td>117</td>\n",
       "    </tr>\n",
       "    <tr>\n",
       "      <th>7269</th>\n",
       "      <td>imagine mat joining the grand tour</td>\n",
       "      <td>5</td>\n",
       "      <td>34</td>\n",
       "    </tr>\n",
       "    <tr>\n",
       "      <th>10284</th>\n",
       "      <td>nah she isnt as good as rory</td>\n",
       "      <td>3</td>\n",
       "      <td>28</td>\n",
       "    </tr>\n",
       "    <tr>\n",
       "      <th>8018</th>\n",
       "      <td>whats with divorce and macan still didnt get i...</td>\n",
       "      <td>2</td>\n",
       "      <td>67</td>\n",
       "    </tr>\n",
       "  </tbody>\n",
       "</table>\n",
       "<p>5784 rows × 3 columns</p>\n",
       "</div>"
      ],
      "text/plain": [
       "                                                 Comment  sentiment_score  \\\n",
       "2166   matt the front isofix is the one you use when ...                4   \n",
       "2514    did he ever said right go ahead and buy for audi                1   \n",
       "3016   the porsche is beautiful i think its in a clas...                4   \n",
       "5448              my dream italian suv wonderful job joe                5   \n",
       "5032   haha its the getting tossed around while going...                2   \n",
       "...                                                  ...              ...   \n",
       "4954   never seen torque measured in kw before should...                3   \n",
       "4365   intresting on the gearbox not auto up shifting...                3   \n",
       "7269                  imagine mat joining the grand tour                5   \n",
       "10284                       nah she isnt as good as rory                3   \n",
       "8018   whats with divorce and macan still didnt get i...                2   \n",
       "\n",
       "       text_len  \n",
       "2166        131  \n",
       "2514         48  \n",
       "3016        161  \n",
       "5448         38  \n",
       "5032        111  \n",
       "...         ...  \n",
       "4954         93  \n",
       "4365        117  \n",
       "7269         34  \n",
       "10284        28  \n",
       "8018         67  \n",
       "\n",
       "[5784 rows x 3 columns]"
      ]
     },
     "execution_count": 36,
     "metadata": {},
     "output_type": "execute_result"
    }
   ],
   "source": [
    "clean_df"
   ]
  },
  {
   "cell_type": "markdown",
   "metadata": {},
   "source": [
    "# Training data deeper cleaning"
   ]
  },
  {
   "cell_type": "code",
   "execution_count": 34,
   "metadata": {},
   "outputs": [],
   "source": [
    "tokenizer = BertTokenizerFast.from_pretrained('bert-base-uncased')"
   ]
  },
  {
   "cell_type": "code",
   "execution_count": 37,
   "metadata": {},
   "outputs": [],
   "source": [
    "token_lens = []\n",
    "\n",
    "for txt in clean_df['Comment'].values:\n",
    "    tokens = tokenizer.encode(txt, max_length=512, truncation=True)\n",
    "    token_lens.append(len(tokens))\n",
    "    \n",
    "max_len=np.max(token_lens)"
   ]
  },
  {
   "cell_type": "code",
   "execution_count": 38,
   "metadata": {},
   "outputs": [
    {
     "name": "stdout",
     "output_type": "stream",
     "text": [
      "MAX TOKENIZED SENTENCE LENGTH: 335\n"
     ]
    }
   ],
   "source": [
    "print(f\"MAX TOKENIZED SENTENCE LENGTH: {max_len}\")"
   ]
  },
  {
   "cell_type": "markdown",
   "metadata": {},
   "source": [
    "# Test data deeper cleaning"
   ]
  },
  {
   "cell_type": "code",
   "execution_count": 39,
   "metadata": {},
   "outputs": [],
   "source": [
    "token_lens_test = []\n",
    "\n",
    "for txt in test_df['Comment'].values:\n",
    "    tokens = tokenizer.encode(txt, max_length=512, truncation=True)\n",
    "    token_lens_test.append(len(tokens))\n",
    "    \n",
    "max_len=np.max(token_lens_test)"
   ]
  },
  {
   "cell_type": "code",
   "execution_count": 40,
   "metadata": {},
   "outputs": [
    {
     "name": "stdout",
     "output_type": "stream",
     "text": [
      "MAX TOKENIZED SENTENCE LENGTH: 343\n"
     ]
    }
   ],
   "source": [
    "print(f\"MAX TOKENIZED SENTENCE LENGTH: {max_len}\")"
   ]
  },
  {
   "cell_type": "code",
   "execution_count": null,
   "metadata": {},
   "outputs": [],
   "source": []
  },
  {
   "cell_type": "markdown",
   "metadata": {},
   "source": [
    "perform a further cleaning checking the tokenizer version of the sentences."
   ]
  },
  {
   "cell_type": "markdown",
   "metadata": {},
   "source": [
    "# Sentiment column analysis "
   ]
  },
  {
   "cell_type": "code",
   "execution_count": 41,
   "metadata": {
    "scrolled": false
   },
   "outputs": [
    {
     "data": {
      "text/plain": [
       "5    1782\n",
       "1    1449\n",
       "3    1210\n",
       "2     678\n",
       "4     665\n",
       "Name: sentiment_score, dtype: int64"
      ]
     },
     "execution_count": 41,
     "metadata": {},
     "output_type": "execute_result"
    }
   ],
   "source": [
    "clean_df['sentiment_score'].value_counts()"
   ]
  },
  {
   "cell_type": "markdown",
   "metadata": {},
   "source": [
    "# ?"
   ]
  },
  {
   "cell_type": "code",
   "execution_count": 42,
   "metadata": {},
   "outputs": [],
   "source": [
    "# 定义要替换的值\n",
    "replace_values = {1: 0, 2: 0, 3: 1, 4: 2, 5: 2}\n",
    "\n",
    "# 使用replace函数应用这些替换\n",
    "clean_df['sentiment_score'] = clean_df['sentiment_score'].replace(replace_values)\n",
    "test_df['sentiment_score'] = test_df['sentiment_score'].replace(replace_values)"
   ]
  },
  {
   "cell_type": "code",
   "execution_count": 43,
   "metadata": {},
   "outputs": [
    {
     "data": {
      "text/html": [
       "<div>\n",
       "<style scoped>\n",
       "    .dataframe tbody tr th:only-of-type {\n",
       "        vertical-align: middle;\n",
       "    }\n",
       "\n",
       "    .dataframe tbody tr th {\n",
       "        vertical-align: top;\n",
       "    }\n",
       "\n",
       "    .dataframe thead th {\n",
       "        text-align: right;\n",
       "    }\n",
       "</style>\n",
       "<table border=\"1\" class=\"dataframe\">\n",
       "  <thead>\n",
       "    <tr style=\"text-align: right;\">\n",
       "      <th></th>\n",
       "      <th>Comment</th>\n",
       "      <th>sentiment_score</th>\n",
       "      <th>text_len</th>\n",
       "    </tr>\n",
       "  </thead>\n",
       "  <tbody>\n",
       "    <tr>\n",
       "      <th>6722</th>\n",
       "      <td>so whats popin pops out on dashbord</td>\n",
       "      <td>0</td>\n",
       "      <td>35</td>\n",
       "    </tr>\n",
       "    <tr>\n",
       "      <th>7288</th>\n",
       "      <td>wish to have this one someday</td>\n",
       "      <td>2</td>\n",
       "      <td>29</td>\n",
       "    </tr>\n",
       "    <tr>\n",
       "      <th>7185</th>\n",
       "      <td>mat is the best car reviewer on here</td>\n",
       "      <td>2</td>\n",
       "      <td>36</td>\n",
       "    </tr>\n",
       "    <tr>\n",
       "      <th>5258</th>\n",
       "      <td>the blonde hair says my fame has brought me a ...</td>\n",
       "      <td>2</td>\n",
       "      <td>140</td>\n",
       "    </tr>\n",
       "    <tr>\n",
       "      <th>672</th>\n",
       "      <td>okay i want this now in red er i mean rosso co...</td>\n",
       "      <td>1</td>\n",
       "      <td>57</td>\n",
       "    </tr>\n",
       "    <tr>\n",
       "      <th>...</th>\n",
       "      <td>...</td>\n",
       "      <td>...</td>\n",
       "      <td>...</td>\n",
       "    </tr>\n",
       "    <tr>\n",
       "      <th>9913</th>\n",
       "      <td>it was fun having you both on</td>\n",
       "      <td>2</td>\n",
       "      <td>29</td>\n",
       "    </tr>\n",
       "    <tr>\n",
       "      <th>9609</th>\n",
       "      <td>no acc as standard where as even the smallest ...</td>\n",
       "      <td>0</td>\n",
       "      <td>85</td>\n",
       "    </tr>\n",
       "    <tr>\n",
       "      <th>3677</th>\n",
       "      <td>yianni and mat video is always a winner</td>\n",
       "      <td>2</td>\n",
       "      <td>39</td>\n",
       "    </tr>\n",
       "    <tr>\n",
       "      <th>7146</th>\n",
       "      <td>why people say it makan eat instead of machan ...</td>\n",
       "      <td>0</td>\n",
       "      <td>128</td>\n",
       "    </tr>\n",
       "    <tr>\n",
       "      <th>5708</th>\n",
       "      <td>looks like a cheap suv from kia</td>\n",
       "      <td>0</td>\n",
       "      <td>31</td>\n",
       "    </tr>\n",
       "  </tbody>\n",
       "</table>\n",
       "<p>2502 rows × 3 columns</p>\n",
       "</div>"
      ],
      "text/plain": [
       "                                                Comment  sentiment_score  \\\n",
       "6722                so whats popin pops out on dashbord                0   \n",
       "7288                      wish to have this one someday                2   \n",
       "7185               mat is the best car reviewer on here                2   \n",
       "5258  the blonde hair says my fame has brought me a ...                2   \n",
       "672   okay i want this now in red er i mean rosso co...                1   \n",
       "...                                                 ...              ...   \n",
       "9913                      it was fun having you both on                2   \n",
       "9609  no acc as standard where as even the smallest ...                0   \n",
       "3677            yianni and mat video is always a winner                2   \n",
       "7146  why people say it makan eat instead of machan ...                0   \n",
       "5708                    looks like a cheap suv from kia                0   \n",
       "\n",
       "      text_len  \n",
       "6722        35  \n",
       "7288        29  \n",
       "7185        36  \n",
       "5258       140  \n",
       "672         57  \n",
       "...        ...  \n",
       "9913        29  \n",
       "9609        85  \n",
       "3677        39  \n",
       "7146       128  \n",
       "5708        31  \n",
       "\n",
       "[2502 rows x 3 columns]"
      ]
     },
     "execution_count": 43,
     "metadata": {},
     "output_type": "execute_result"
    }
   ],
   "source": [
    "test_df"
   ]
  },
  {
   "cell_type": "code",
   "execution_count": 44,
   "metadata": {
    "scrolled": true
   },
   "outputs": [
    {
     "data": {
      "text/plain": [
       "2    2447\n",
       "0    2127\n",
       "1    1210\n",
       "Name: sentiment_score, dtype: int64"
      ]
     },
     "execution_count": 44,
     "metadata": {},
     "output_type": "execute_result"
    }
   ],
   "source": [
    "clean_df['sentiment_score'].value_counts()"
   ]
  },
  {
   "cell_type": "code",
   "execution_count": 45,
   "metadata": {},
   "outputs": [
    {
     "data": {
      "image/png": "[encoded data removed]",
      "text/plain": [
       "<Figure size 640x480 with 1 Axes>"
      ]
     },
     "metadata": {},
     "output_type": "display_data"
    }
   ],
   "source": [
    "# Assuming clean_df is defined somewhere before this code\n",
    "\n",
    "# Ensure 'sentiment_score' contains only 0, 1, or 2\n",
    "clean_df = clean_df[clean_df['sentiment_score'].isin([0, 1, 2])]\n",
    "\n",
    "# Get counts for each sentiment score\n",
    "counts = clean_df['sentiment_score'].value_counts()\n",
    "\n",
    "# Specify colors for each score\n",
    "colors = {0: 'red', 1: 'blue', 2: 'green'}\n",
    "\n",
    "# Plot histogram with spacing between bars\n",
    "plt.bar(counts.index, counts.values, color=[colors[i] for i in counts.index], edgecolor='black', width=0.6)\n",
    "\n",
    "plt.xticks([0, 1, 2])\n",
    "plt.xlabel('Sentiment Score')\n",
    "plt.ylabel('Frequency')\n",
    "plt.title('Histogram of Sentiment Score')\n",
    "plt.show()"
   ]
  },
  {
   "cell_type": "markdown",
   "metadata": {},
   "source": [
    "# ****"
   ]
  },
  {
   "cell_type": "markdown",
   "metadata": {},
   "source": [
    "# Train-Validation split"
   ]
  },
  {
   "cell_type": "code",
   "execution_count": 55,
   "metadata": {},
   "outputs": [],
   "source": [
    "X = clean_df['Comment'].values\n",
    "y = clean_df['sentiment_score'].values\n",
    "X_train, X_valid, y_train, y_valid = train_test_split(X, y, test_size=0.1, stratify=y, random_state=seed)\n",
    "\n",
    "X_test = test_df['Comment'].values\n",
    "y_test = test_df['sentiment_score'].values"
   ]
  },
  {
   "cell_type": "markdown",
   "metadata": {},
   "source": [
    "# Oversampling training data"
   ]
  },
  {
   "cell_type": "code",
   "execution_count": 78,
   "metadata": {},
   "outputs": [],
   "source": [
    "ros = RandomOverSampler()\n",
    "X_train_resampled, y_train_resampled = ros.fit_resample(X_train.reshape(-1, 1), y_train);\n",
    "X_train_resampled = [x[0] for x in X_train_resampled]"
   ]
  },
  {
   "cell_type": "code",
   "execution_count": 85,
   "metadata": {},
   "outputs": [
    {
     "name": "stdout",
     "output_type": "stream",
     "text": [
      "Value counts for y_train:\n",
      "Value: 0, Count: 1914\n",
      "Value: 1, Count: 1089\n",
      "Value: 2, Count: 2202\n",
      "\n",
      "Value counts for y_train_resampled:\n",
      "Value: 0, Count: 2202\n",
      "Value: 1, Count: 2202\n",
      "Value: 2, Count: 2202\n"
     ]
    }
   ],
   "source": [
    "import numpy as np\n",
    "\n",
    "# Display value counts for y_train\n",
    "print(\"Value counts for y_train:\")\n",
    "unique_values_train, counts_train = np.unique(y_train, return_counts=True)\n",
    "for value, count in zip(unique_values_train, counts_train):\n",
    "    print(f\"Value: {value}, Count: {count}\")\n",
    "print()\n",
    "\n",
    "# Display value counts for y_train_resampled\n",
    "print(\"Value counts for y_train_resampled:\")\n",
    "unique_values_resampled, counts_resampled = np.unique(y_train_resampled, return_counts=True)\n",
    "for value, count in zip(unique_values_resampled, counts_resampled):\n",
    "    print(f\"Value: {value}, Count: {count}\")\n"
   ]
  },
  {
   "cell_type": "markdown",
   "metadata": {},
   "source": [
    "# Baseline model: Naive Bayes Classifier"
   ]
  },
  {
   "cell_type": "code",
   "execution_count": 58,
   "metadata": {},
   "outputs": [],
   "source": [
    "# Label Encoding y\n",
    "le = LabelEncoder()\n",
    "y_train_le = le.fit_transform(y_train_resampled)\n",
    "y_valid_le = le.transform(y_valid)\n",
    "y_test_le = le.transform(y_test)\n",
    "\n",
    "# Count Vectorization and TF-IDF Transformation\n",
    "clf = CountVectorizer()\n",
    "X_train_cv = clf.fit_transform(X_train_resampled)\n",
    "X_valid_cv = clf.transform(X_valid)\n",
    "X_test_cv = clf.transform(X_test)\n",
    "\n",
    "tf_transformer = TfidfTransformer(use_idf=True).fit(X_train_cv)\n",
    "X_train_tf = tf_transformer.transform(X_train_cv)\n",
    "X_valid_tf = tf_transformer.transform(X_valid_cv)\n",
    "X_test_tf = tf_transformer.transform(X_test_cv)\n",
    "\n",
    "# Naive Bayes Classifier\n",
    "nb_clf = MultinomialNB()\n",
    "nb_clf.fit(X_train_tf, y_train_le)\n",
    "nb_pred = nb_clf.predict(X_test_tf)"
   ]
  },
  {
   "cell_type": "code",
   "execution_count": 59,
   "metadata": {},
   "outputs": [],
   "source": [
    "nb_pred = nb_clf.predict(X_test_tf)"
   ]
  },
  {
   "cell_type": "code",
   "execution_count": 60,
   "metadata": {},
   "outputs": [
    {
     "name": "stdout",
     "output_type": "stream",
     "text": [
      "\tClassification Report for Naive Bayes:\n",
      "\n",
      "               precision    recall  f1-score   support\n",
      "\n",
      "    Negative       0.68      0.57      0.62       927\n",
      "     Neutral       0.37      0.57      0.45       507\n",
      "    Positive       0.72      0.64      0.68      1068\n",
      "\n",
      "    accuracy                           0.60      2502\n",
      "   macro avg       0.59      0.59      0.58      2502\n",
      "weighted avg       0.64      0.60      0.61      2502\n",
      "\n"
     ]
    }
   ],
   "source": [
    "print('\\tClassification Report for Naive Bayes:\\n\\n',classification_report(y_test_le,nb_pred, target_names=['Negative', 'Neutral', 'Positive']))"
   ]
  },
  {
   "cell_type": "markdown",
   "metadata": {},
   "source": [
    "# One hot encoding for Bert and Roberta"
   ]
  },
  {
   "cell_type": "code",
   "execution_count": 86,
   "metadata": {},
   "outputs": [],
   "source": [
    "y_train_oh = y_train.copy()\n",
    "y_valid_oh = y_valid.copy()\n",
    "y_test_oh = y_test.copy()"
   ]
  },
  {
   "cell_type": "code",
   "execution_count": 87,
   "metadata": {},
   "outputs": [],
   "source": [
    "ohe = preprocessing.OneHotEncoder()\n",
    "y_train = ohe.fit_transform(np.array(y_train_resampled).reshape(-1, 1)).toarray()\n",
    "y_valid = ohe.fit_transform(np.array(y_valid).reshape(-1, 1)).toarray()\n",
    "y_test = ohe.fit_transform(np.array(y_test).reshape(-1, 1)).toarray()"
   ]
  },
  {
   "cell_type": "markdown",
   "metadata": {},
   "source": [
    "### gbt"
   ]
  },
  {
   "cell_type": "code",
   "execution_count": 52,
   "metadata": {},
   "outputs": [],
   "source": [
    "#  ohe = preprocessing.OneHotEncoder()\n",
    "#  y_train = ohe.fit_transform(np.array(y_train).reshape(-1, 1)).toarray()\n",
    "\n",
    "#  # Note the use of transform() instead of fit_transform()\n",
    "\n",
    "#  y_valid = ohe.transform(np.array(y_valid).reshape(-1, 1)).toarray()\n",
    "#  y_test = ohe.transform(np.array(y_test).reshape(-1, 1)).toarray()\n"
   ]
  },
  {
   "cell_type": "code",
   "execution_count": 88,
   "metadata": {},
   "outputs": [
    {
     "name": "stdout",
     "output_type": "stream",
     "text": [
      "TRAINING DATA: 5205\n",
      "VALIDATION DATA: 579\n",
      "TESTING DATA: 2502\n"
     ]
    }
   ],
   "source": [
    "print(f\"TRAINING DATA: {X_train.shape[0]}\\nVALIDATION DATA: {X_valid.shape[0]}\\nTESTING DATA: {X_test.shape[0]}\" )\n"
   ]
  },
  {
   "cell_type": "code",
   "execution_count": 62,
   "metadata": {},
   "outputs": [
    {
     "data": {
      "text/plain": [
       "6606"
      ]
     },
     "execution_count": 62,
     "metadata": {},
     "output_type": "execute_result"
    }
   ],
   "source": [
    "len(y_train_resampled)"
   ]
  },
  {
   "cell_type": "code",
   "execution_count": 63,
   "metadata": {},
   "outputs": [
    {
     "name": "stdout",
     "output_type": "stream",
     "text": [
      "[0 1 2]\n",
      "[2 0 1 ... 2 1 2]\n"
     ]
    }
   ],
   "source": [
    "print(np.unique(y_train))\n",
    "print(y_train)"
   ]
  },
  {
   "cell_type": "markdown",
   "metadata": {},
   "source": [
    "The F1 score is around 70% for the more populated classes (Negative and Positive emotions), and lower for the Neutral class (F1=0.53).\n",
    "In particular, the overall accuracy is 70%."
   ]
  },
  {
   "cell_type": "markdown",
   "metadata": {},
   "source": [
    "# BERT Sentiment Analysis"
   ]
  },
  {
   "cell_type": "code",
   "execution_count": 64,
   "metadata": {},
   "outputs": [],
   "source": [
    " tokenizer = BertTokenizerFast.from_pretrained('bert-base-uncased')"
   ]
  },
  {
   "cell_type": "code",
   "execution_count": 90,
   "metadata": {},
   "outputs": [],
   "source": [
    " MAX_LEN = 512"
   ]
  },
  {
   "cell_type": "code",
   "execution_count": 91,
   "metadata": {},
   "outputs": [],
   "source": [
    "def tokenize(data,max_len = MAX_LEN) :\n",
    "     input_ids = []\n",
    "     attention_masks = []\n",
    "     for i in range(len(data)):\n",
    "         encoded = tokenizer.encode_plus(\n",
    "             data[i],\n",
    "             add_special_tokens=True,\n",
    "             max_length=MAX_LEN,\n",
    "             padding='max_length',\n",
    "             return_attention_mask=True\n",
    "         )\n",
    "         input_ids.append(encoded['input_ids'])\n",
    "         attention_masks.append(encoded['attention_mask'])\n",
    "     return np.array(input_ids),np.array(attention_masks)"
   ]
  },
  {
   "cell_type": "code",
   "execution_count": 92,
   "metadata": {
    "id": "io-5WIXKd4KN",
    "scrolled": false
   },
   "outputs": [],
   "source": [
    "train_input_ids, train_attention_masks = tokenize(X_train_resampled, MAX_LEN)\n",
    "val_input_ids, val_attention_masks = tokenize(X_valid, MAX_LEN)\n",
    "test_input_ids, test_attention_masks = tokenize(X_test, MAX_LEN)"
   ]
  },
  {
   "cell_type": "code",
   "execution_count": null,
   "metadata": {
    "id": "vBxJUqE1eZnv"
   },
   "outputs": [],
   "source": []
  },
  {
   "cell_type": "markdown",
   "metadata": {},
   "source": [
    "# BERT modeling"
   ]
  },
  {
   "cell_type": "code",
   "execution_count": 69,
   "metadata": {
    "colab": {
     "base_uri": "https://localhost:8080/"
    },
    "id": "F96uv-sYej6U",
    "outputId": "7902508d-e2ad-45d1-9e17-b4d063473ffd",
    "scrolled": false
   },
   "outputs": [
    {
     "name": "stderr",
     "output_type": "stream",
     "text": [
      "Some weights of the PyTorch model were not used when initializing the TF 2.0 model TFBertModel: ['cls.predictions.transform.LayerNorm.bias', 'cls.predictions.transform.LayerNorm.weight', 'cls.predictions.transform.dense.weight', 'cls.seq_relationship.weight', 'cls.predictions.transform.dense.bias', 'cls.predictions.bias', 'cls.seq_relationship.bias']\n",
      "- This IS expected if you are initializing TFBertModel from a PyTorch model trained on another task or with another architecture (e.g. initializing a TFBertForSequenceClassification model from a BertForPreTraining model).\n",
      "- This IS NOT expected if you are initializing TFBertModel from a PyTorch model that you expect to be exactly identical (e.g. initializing a TFBertForSequenceClassification model from a BertForSequenceClassification model).\n",
      "All the weights of TFBertModel were initialized from the PyTorch model.\n",
      "If your task is similar to the task the model of the checkpoint was trained on, you can already use TFBertModel for predictions without further training.\n"
     ]
    }
   ],
   "source": [
    "bert_model = TFBertModel.from_pretrained('bert-base-uncased')"
   ]
  },
  {
   "cell_type": "code",
   "execution_count": 93,
   "metadata": {},
   "outputs": [],
   "source": [
    "def create_model(bert_model, max_len=MAX_LEN):\n",
    "\n",
    "    ##params###\n",
    "    lr_schedule = tf.keras.optimizers.schedules.ExponentialDecay(\n",
    "    initial_learning_rate=0.01,\n",
    "    decay_steps=10000,\n",
    "    decay_rate=0.9)\n",
    "\n",
    "    opt = tf.keras.optimizers.Adam(learning_rate=lr_schedule)\n",
    "    loss = tf.keras.losses.CategoricalCrossentropy()\n",
    "    accuracy = tf.keras.metrics.CategoricalAccuracy()\n",
    "\n",
    "\n",
    "    input_ids = tf.keras.Input(shape=(max_len,),dtype='int32')\n",
    "\n",
    "    attention_masks = tf.keras.Input(shape=(max_len,),dtype='int32')\n",
    "\n",
    "    embeddings = bert_model([input_ids,attention_masks])[1]\n",
    "\n",
    "    output = tf.keras.layers.Dense(3, activation=\"softmax\")(embeddings)\n",
    "\n",
    "\n",
    "    model = tf.keras.models.Model(inputs = [input_ids,attention_masks], outputs = output)\n",
    "\n",
    "    model.compile(opt, loss=loss, metrics=accuracy)\n",
    "\n",
    "\n",
    "    return model"
   ]
  },
  {
   "cell_type": "code",
   "execution_count": 94,
   "metadata": {
    "colab": {
     "base_uri": "https://localhost:8080/"
    },
    "id": "uLverV--ecqU",
    "outputId": "388bfe84-d508-4474-807d-47ec98673566",
    "scrolled": true
   },
   "outputs": [
    {
     "name": "stderr",
     "output_type": "stream",
     "text": [
      "WARNING:absl:At this time, the v2.11+ optimizer `tf.keras.optimizers.Adam` runs slowly on M1/M2 Macs, please use the legacy Keras optimizer instead, located at `tf.keras.optimizers.legacy.Adam`.\n",
      "WARNING:absl:There is a known slowdown when using v2.11+ Keras optimizers on M1/M2 Macs. Falling back to the legacy Keras optimizer, i.e., `tf.keras.optimizers.legacy.Adam`.\n"
     ]
    },
    {
     "name": "stdout",
     "output_type": "stream",
     "text": [
      "Model: \"model_1\"\n",
      "__________________________________________________________________________________________________\n",
      " Layer (type)                Output Shape                 Param #   Connected to                  \n",
      "==================================================================================================\n",
      " input_3 (InputLayer)        [(None, 512)]                0         []                            \n",
      "                                                                                                  \n",
      " input_4 (InputLayer)        [(None, 512)]                0         []                            \n",
      "                                                                                                  \n",
      " tf_bert_model (TFBertModel  multiple                     1094822   ['input_3[0][0]',             \n",
      " )                                                        40         'input_4[0][0]']             \n",
      "                                                                                                  \n",
      " dense_1 (Dense)             (None, 3)                    2307      ['tf_bert_model[1][1]']       \n",
      "                                                                                                  \n",
      "==================================================================================================\n",
      "Total params: 109484547 (417.65 MB)\n",
      "Trainable params: 109484547 (417.65 MB)\n",
      "Non-trainable params: 0 (0.00 Byte)\n",
      "__________________________________________________________________________________________________\n"
     ]
    }
   ],
   "source": [
    "model = create_model(bert_model, MAX_LEN)\n",
    "model.summary()"
   ]
  },
  {
   "cell_type": "code",
   "execution_count": 72,
   "metadata": {},
   "outputs": [],
   "source": [
    "import sys\n",
    "np.set_printoptions(threshold=sys.maxsize)"
   ]
  },
  {
   "cell_type": "markdown",
   "metadata": {},
   "source": [
    "# input 問題"
   ]
  },
  {
   "cell_type": "code",
   "execution_count": 96,
   "metadata": {},
   "outputs": [
    {
     "name": "stdout",
     "output_type": "stream",
     "text": [
      "(6606, 512)\n",
      "(6606, 512)\n",
      "(6606, 3)\n",
      "(579, 512)\n",
      "(579, 512)\n",
      "(579, 3)\n"
     ]
    }
   ],
   "source": [
    "print(train_input_ids.shape)\n",
    "print(train_attention_masks.shape)\n",
    "print(y_train.shape)\n",
    "print(val_input_ids.shape)\n",
    "print(val_attention_masks.shape)\n",
    "print(y_valid.shape)\n"
   ]
  },
  {
   "cell_type": "code",
   "execution_count": null,
   "metadata": {},
   "outputs": [],
   "source": []
  },
  {
   "cell_type": "code",
   "execution_count": null,
   "metadata": {
    "colab": {
     "base_uri": "https://localhost:8080/"
    },
    "id": "3BfIJpKnjCLe",
    "outputId": "706b8571-53e2-426e-a05b-50146ff4f414",
    "scrolled": true
   },
   "outputs": [
    {
     "name": "stdout",
     "output_type": "stream",
     "text": [
      "10/52 [====>.........................] - ETA: 1:47:14 - loss: 5.4484 - categorical_accuracy: 0.3500"
     ]
    }
   ],
   "source": [
    "history_bert = model.fit([train_input_ids,train_attention_masks], y_train, validation_data =\n",
    "                         ([val_input_ids,val_attention_masks], y_valid), epochs=1, batch_size=128)"
   ]
  },
  {
   "cell_type": "code",
   "execution_count": null,
   "metadata": {
    "scrolled": true
   },
   "outputs": [],
   "source": [
    "result_bert = model.predict([test_input_ids,test_attention_masks])"
   ]
  },
  {
   "cell_type": "markdown",
   "metadata": {},
   "source": [
    "# BERT results"
   ]
  },
  {
   "cell_type": "code",
   "execution_count": null,
   "metadata": {},
   "outputs": [],
   "source": [
    "y_pred_bert =  np.zeros_like(result_bert)\n",
    "y_pred_bert[np.arange(len(y_pred_bert)), result_bert.argmax(1)] = 1"
   ]
  },
  {
   "cell_type": "code",
   "execution_count": null,
   "metadata": {
    "scrolled": true
   },
   "outputs": [],
   "source": [
    "conf_matrix(y_test.argmax(1), y_pred_bert.argmax(1),'BERT Sentiment Analysis\\nConfusion Matrix')"
   ]
  },
  {
   "cell_type": "code",
   "execution_count": null,
   "metadata": {},
   "outputs": [],
   "source": [
    "print('\\tClassification Report for BERT:\\n\\n',classification_report(y_test,y_pred_bert, target_names=['Negative', 'Neutral', 'Positive']))"
   ]
  },
  {
   "cell_type": "markdown",
   "metadata": {},
   "source": [
    "# RoBERTa Sentiment Analysis"
   ]
  },
  {
   "cell_type": "code",
   "execution_count": null,
   "metadata": {},
   "outputs": [],
   "source": [
    "tokenizer_roberta = RobertaTokenizerFast.from_pretrained(\"roberta-base\")"
   ]
  },
  {
   "cell_type": "code",
   "execution_count": null,
   "metadata": {},
   "outputs": [],
   "source": [
    "token_lens = []\n",
    "\n",
    "for txt in X_train:\n",
    "    tokens = tokenizer_roberta.encode(txt, max_length=512, truncation=True)\n",
    "    token_lens.append(len(tokens))\n",
    "max_length=np.max(token_lens)\n",
    "max_length"
   ]
  },
  {
   "cell_type": "code",
   "execution_count": null,
   "metadata": {},
   "outputs": [],
   "source": [
    "MAX_LEN=128"
   ]
  },
  {
   "cell_type": "code",
   "execution_count": null,
   "metadata": {},
   "outputs": [],
   "source": [
    "def tokenize_roberta(data,max_len=MAX_LEN) :\n",
    "    input_ids = []\n",
    "    attention_masks = []\n",
    "    for i in range(len(data)):\n",
    "        encoded = tokenizer_roberta.encode_plus(\n",
    "            data[i],\n",
    "            add_special_tokens=True,\n",
    "            max_length=max_len,\n",
    "            padding='max_length',\n",
    "            return_attention_mask=True\n",
    "        )\n",
    "        input_ids.append(encoded['input_ids'])\n",
    "        attention_masks.append(encoded['attention_mask'])\n",
    "    return np.array(input_ids),np.array(attention_masks)"
   ]
  },
  {
   "cell_type": "code",
   "execution_count": null,
   "metadata": {},
   "outputs": [],
   "source": [
    "train_input_ids, train_attention_masks = tokenize_roberta(X_train, MAX_LEN)\n",
    "val_input_ids, val_attention_masks = tokenize_roberta(X_valid, MAX_LEN)\n",
    "test_input_ids, test_attention_masks = tokenize_roberta(X_test, MAX_LEN)"
   ]
  },
  {
   "cell_type": "markdown",
   "metadata": {},
   "source": [
    "# RoBERTa modeling"
   ]
  },
  {
   "cell_type": "code",
   "execution_count": null,
   "metadata": {},
   "outputs": [],
   "source": [
    "def create_model(bert_model, max_len=MAX_LEN):\n",
    "    \n",
    "    opt = tf.keras.optimizers.legacy.Adam(learning_rate=0.001, decay=1e6)\n",
    "    loss = tf.keras.losses.CategoricalCrossentropy()\n",
    "    accuracy = tf.keras.metrics.CategoricalAccuracy()\n",
    "\n",
    "    input_ids = tf.keras.Input(shape=(max_len,),dtype='int32')\n",
    "    attention_masks = tf.keras.Input(shape=(max_len,),dtype='int32')\n",
    "    output = bert_model([input_ids,attention_masks])\n",
    "    output = output[1]\n",
    "    output = tf.keras.layers.Dense(3, activation=tf.nn.softmax)(output)\n",
    "    model = tf.keras.models.Model(inputs = [input_ids,attention_masks],outputs = output)\n",
    "    model.compile(opt, loss=loss, metrics=accuracy)\n",
    "    return model"
   ]
  },
  {
   "cell_type": "code",
   "execution_count": null,
   "metadata": {},
   "outputs": [],
   "source": [
    "roberta_model = TFRobertaModel.from_pretrained('roberta-base')"
   ]
  },
  {
   "cell_type": "code",
   "execution_count": null,
   "metadata": {},
   "outputs": [],
   "source": [
    "model = create_model(roberta_model, MAX_LEN)\n",
    "model.summary()"
   ]
  },
  {
   "cell_type": "code",
   "execution_count": null,
   "metadata": {},
   "outputs": [],
   "source": [
    "history_2 = model.fit([train_input_ids,train_attention_masks], y_train, validation_data=([val_input_ids,val_attention_masks], y_valid), epochs=4, batch_size=30)"
   ]
  },
  {
   "cell_type": "markdown",
   "metadata": {},
   "source": [
    "# RoBERTa results"
   ]
  },
  {
   "cell_type": "code",
   "execution_count": null,
   "metadata": {},
   "outputs": [],
   "source": [
    "result_roberta = model.predict([test_input_ids,test_attention_masks])"
   ]
  },
  {
   "cell_type": "code",
   "execution_count": null,
   "metadata": {},
   "outputs": [],
   "source": [
    "y_pred_roberta =  np.zeros_like(result_roberta)\n",
    "y_pred_roberta[np.arange(len(y_pred_roberta)), result_roberta.argmax(1)] = 1"
   ]
  },
  {
   "cell_type": "code",
   "execution_count": null,
   "metadata": {},
   "outputs": [],
   "source": [
    "conf_matrix(y_test.argmax(1),y_pred_roberta.argmax(1),'RoBERTa Sentiment Analysis\\nConfusion Matrix')"
   ]
  },
  {
   "cell_type": "markdown",
   "metadata": {},
   "source": [
    "# Classification Matrix Comparison"
   ]
  },
  {
   "cell_type": "code",
   "execution_count": null,
   "metadata": {},
   "outputs": [],
   "source": [
    "fig, ax = plt.subplots(1,2,figsize=(18,9))\n",
    "\n",
    "labels = ['Negative', 'Neutral', 'Positive']\n",
    "plt.suptitle('Sentiment Analysis Comparison\\n Confusion Matrix', fontsize=20)\n",
    "\n",
    "\n",
    "sns.heatmap(confusion_matrix(y_test.argmax(1),y_pred_bert.argmax(1)), annot=True, cmap=\"Blues\", fmt='g', cbar=False, ax=ax[0], annot_kws={\"size\":25})\n",
    "\n",
    "ax[0].set_title('BERT Classifier', fontsize=20)\n",
    "ax[0].set_yticklabels(labels, fontsize=17);\n",
    "ax[0].set_xticklabels(labels, fontsize=17);\n",
    "ax[0].set_ylabel('Test', fontsize=20)\n",
    "ax[0].set_xlabel('Predicted', fontsize=20)\n",
    "\n",
    "sns.heatmap(confusion_matrix(y_test.argmax(1),y_pred_roberta.argmax(1)), annot=True, cmap=\"Blues\", fmt='g', cbar=False, ax=ax[1], annot_kws={\"size\":25})\n",
    "ax[1].set_title('RoBERTa Classifier', fontsize=20)\n",
    "ax[1].set_yticklabels(labels, fontsize=17);\n",
    "ax[1].set_xticklabels(labels, fontsize=17);\n",
    "ax[1].set_ylabel('Test', fontsize=20)\n",
    "ax[1].set_xlabel('Predicted', fontsize=20)\n",
    "\n",
    "\n",
    "plt.show()"
   ]
  },
  {
   "cell_type": "code",
   "execution_count": null,
   "metadata": {},
   "outputs": [],
   "source": []
  }
 ],
 "metadata": {
  "colab": {
   "provenance": []
  },
  "kernelspec": {
   "display_name": "Python 3 (ipykernel)",
   "language": "python",
   "name": "python3"
  },
  "language_info": {
   "codemirror_mode": {
    "name": "ipython",
    "version": 3
   },
   "file_extension": ".py",
   "mimetype": "text/x-python",
   "name": "python",
   "nbconvert_exporter": "python",
   "pygments_lexer": "ipython3",
   "version": "3.10.9"
  }
 },
 "nbformat": 4,
 "nbformat_minor": 1
}
