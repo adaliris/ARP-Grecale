{
 "cells": [
  {
   "cell_type": "code",
   "execution_count": null,
   "metadata": {
    "colab": {
     "base_uri": "https://localhost:8080/"
    },
    "id": "5BJ6V6QTIbK2",
    "outputId": "472fb78b-c366-4715-8abb-77e1f70ef0d8",
    "scrolled": true
   },
   "outputs": [],
   "source": [
    "!pip install transformers\n",
    "!pip install ipywidgets\n",
    "!pip install emoji\n",
    "pip install --upgrade jupyter"
   ]
  },
  {
   "cell_type": "code",
   "execution_count": null,
   "metadata": {
    "scrolled": true
   },
   "outputs": [],
   "source": [
    "pip install pandas_profiling"
   ]
  },
  {
   "cell_type": "markdown",
   "metadata": {
    "id": "xSDdBEIrlPue"
   },
   "source": [
    "# Install Package"
   ]
  },
  {
   "cell_type": "code",
   "execution_count": 57,
   "metadata": {
    "id": "uCa3PrYFGr_8"
   },
   "outputs": [],
   "source": [
    "#general purpose packages\n",
    "import numpy as np\n",
    "import pandas as pd\n",
    "import matplotlib.pyplot as plt\n",
    "import seaborn as sns\n",
    "\n",
    "#data processing\n",
    "import re, string\n",
    "\n",
    "\n",
    "import emoji\n",
    "import nltk\n",
    "from collections import Counter\n",
    "from nltk.corpus import stopwords\n",
    "from sklearn import preprocessing\n",
    "\n",
    "#Naive Bayes\n",
    "from sklearn.model_selection import train_test_split\n",
    "from sklearn.preprocessing import LabelEncoder\n",
    "from sklearn.feature_extraction.text import CountVectorizer, TfidfTransformer\n",
    "from sklearn.naive_bayes import MultinomialNB\n",
    "from sklearn.svm import LinearSVC\n",
    "from sklearn.metrics import classification_report\n",
    "from imblearn.over_sampling import RandomOverSampler\n",
    "\n",
    "#transformers\n",
    "from transformers import BertTokenizerFast\n",
    "from transformers import TFBertModel\n",
    "from transformers import RobertaTokenizerFast\n",
    "from transformers import TFRobertaModel\n",
    "from transformers import TFAutoModel, AutoTokenizer\n",
    "\n",
    "\n",
    "#ROS\n",
    "from imblearn.over_sampling import RandomOverSampler\n",
    "\n",
    "\n",
    "#keras\n",
    "import tensorflow as tf\n",
    "from tensorflow import keras\n",
    "\n",
    "#metrics\n",
    "from sklearn.metrics import accuracy_score, f1_score\n",
    "from sklearn.metrics import classification_report, confusion_matrix\n",
    "\n",
    "#ProfileReport\n",
    "from pandas_profiling import ProfileReport\n",
    "\n",
    "#goole file\n",
    "# from google.colab import files\n",
    "\n",
    "from datetime import datetime, timedelta\n",
    "\n",
    "seed = 42"
   ]
  },
  {
   "cell_type": "markdown",
   "metadata": {},
   "source": [
    "# Define fuction "
   ]
  },
  {
   "cell_type": "code",
   "execution_count": 50,
   "metadata": {},
   "outputs": [],
   "source": [
    "def conf_matrix(y, y_pred, title):\n",
    "    fig, ax =plt.subplots(figsize=(5,5))\n",
    "    labels=['Negative', 'Neutral', 'Positive']\n",
    "    ax=sns.heatmap(confusion_matrix(y, y_pred), annot=True, cmap=\"Blues\", fmt='g', cbar=False, annot_kws={\"size\":25})\n",
    "    plt.title(title, fontsize=20)\n",
    "    ax.xaxis.set_ticklabels(labels, fontsize=17) \n",
    "    ax.yaxis.set_ticklabels(labels, fontsize=17)\n",
    "    ax.set_ylabel('Test', fontsize=20)\n",
    "    ax.set_xlabel('Predicted', fontsize=20)\n",
    "    plt.show()"
   ]
  },
  {
   "cell_type": "markdown",
   "metadata": {},
   "source": [
    "# Loading the data"
   ]
  },
  {
   "cell_type": "code",
   "execution_count": 96,
   "metadata": {
    "colab": {
     "base_uri": "https://localhost:8080/",
     "height": 419
    },
    "id": "stMJvOS3IglM",
    "outputId": "4caf854b-2f26-4fb0-e047-8bd300c062cd"
   },
   "outputs": [
    {
     "data": {
      "text/html": [
       "<div>\n",
       "<style scoped>\n",
       "    .dataframe tbody tr th:only-of-type {\n",
       "        vertical-align: middle;\n",
       "    }\n",
       "\n",
       "    .dataframe tbody tr th {\n",
       "        vertical-align: top;\n",
       "    }\n",
       "\n",
       "    .dataframe thead th {\n",
       "        text-align: right;\n",
       "    }\n",
       "</style>\n",
       "<table border=\"1\" class=\"dataframe\">\n",
       "  <thead>\n",
       "    <tr style=\"text-align: right;\">\n",
       "      <th></th>\n",
       "      <th>Unnamed: 0</th>\n",
       "      <th>Comment</th>\n",
       "      <th>Name</th>\n",
       "      <th>Date</th>\n",
       "      <th>Pos</th>\n",
       "      <th>Neg</th>\n",
       "      <th>Neu</th>\n",
       "      <th>Model</th>\n",
       "      <th>Source</th>\n",
       "      <th>sentiment_score</th>\n",
       "    </tr>\n",
       "  </thead>\n",
       "  <tbody>\n",
       "    <tr>\n",
       "      <th>0</th>\n",
       "      <td>1.0</td>\n",
       "      <td>I'm not sure I have ever commented on a video,...</td>\n",
       "      <td>\\n @charlesconnor1737\\n</td>\n",
       "      <td>3 years ago</td>\n",
       "      <td>0.207</td>\n",
       "      <td>0.070</td>\n",
       "      <td>0.723</td>\n",
       "      <td>Alfa Romeo Stelvio</td>\n",
       "      <td>Youtube</td>\n",
       "      <td>5</td>\n",
       "    </tr>\n",
       "    <tr>\n",
       "      <th>1</th>\n",
       "      <td>2.0</td>\n",
       "      <td>I’ve always done the cup holder test in all my...</td>\n",
       "      <td>\\n @gllegacy87\\n</td>\n",
       "      <td>3 years ago</td>\n",
       "      <td>0.206</td>\n",
       "      <td>0.000</td>\n",
       "      <td>0.794</td>\n",
       "      <td>Alfa Romeo Stelvio</td>\n",
       "      <td>Youtube</td>\n",
       "      <td>4</td>\n",
       "    </tr>\n",
       "    <tr>\n",
       "      <th>2</th>\n",
       "      <td>3.0</td>\n",
       "      <td>I absolutely love the design of the Stelvio an...</td>\n",
       "      <td>\\n @driftattack11\\n</td>\n",
       "      <td>4 years ago</td>\n",
       "      <td>0.133</td>\n",
       "      <td>0.136</td>\n",
       "      <td>0.731</td>\n",
       "      <td>Alfa Romeo Stelvio</td>\n",
       "      <td>Youtube</td>\n",
       "      <td>2</td>\n",
       "    </tr>\n",
       "    <tr>\n",
       "      <th>3</th>\n",
       "      <td>4.0</td>\n",
       "      <td>I believe the reason behind the column mounted...</td>\n",
       "      <td>\\n @Black2005Lotus\\n</td>\n",
       "      <td>4 years ago</td>\n",
       "      <td>0.100</td>\n",
       "      <td>0.082</td>\n",
       "      <td>0.818</td>\n",
       "      <td>Alfa Romeo Stelvio</td>\n",
       "      <td>Youtube</td>\n",
       "      <td>4</td>\n",
       "    </tr>\n",
       "    <tr>\n",
       "      <th>4</th>\n",
       "      <td>5.0</td>\n",
       "      <td>Finally! As a previous 4C Spider and now Giuli...</td>\n",
       "      <td>\\n @DrachenBlasen\\n</td>\n",
       "      <td>4 years ago</td>\n",
       "      <td>0.171</td>\n",
       "      <td>0.027</td>\n",
       "      <td>0.802</td>\n",
       "      <td>Alfa Romeo Stelvio</td>\n",
       "      <td>Youtube</td>\n",
       "      <td>5</td>\n",
       "    </tr>\n",
       "    <tr>\n",
       "      <th>...</th>\n",
       "      <td>...</td>\n",
       "      <td>...</td>\n",
       "      <td>...</td>\n",
       "      <td>...</td>\n",
       "      <td>...</td>\n",
       "      <td>...</td>\n",
       "      <td>...</td>\n",
       "      <td>...</td>\n",
       "      <td>...</td>\n",
       "      <td>...</td>\n",
       "    </tr>\n",
       "    <tr>\n",
       "      <th>60914</th>\n",
       "      <td>NaN</td>\n",
       "      <td>I suppose we should be grateful that at least ...</td>\n",
       "      <td>Wing Commander</td>\n",
       "      <td>October 02, 2021</td>\n",
       "      <td>NaN</td>\n",
       "      <td>NaN</td>\n",
       "      <td>NaN</td>\n",
       "      <td>Porsche Macan</td>\n",
       "      <td>Forums</td>\n",
       "      <td>5</td>\n",
       "    </tr>\n",
       "    <tr>\n",
       "      <th>60915</th>\n",
       "      <td>NaN</td>\n",
       "      <td>Our first macan was a base on 21s with no Pasm...</td>\n",
       "      <td>sd1985</td>\n",
       "      <td>October 02, 2021</td>\n",
       "      <td>NaN</td>\n",
       "      <td>NaN</td>\n",
       "      <td>NaN</td>\n",
       "      <td>Porsche Macan</td>\n",
       "      <td>Forums</td>\n",
       "      <td>3</td>\n",
       "    </tr>\n",
       "    <tr>\n",
       "      <th>60916</th>\n",
       "      <td>NaN</td>\n",
       "      <td>For gen3, on the uk configurator PASM is not c...</td>\n",
       "      <td>BanZ</td>\n",
       "      <td>October 02, 2021</td>\n",
       "      <td>NaN</td>\n",
       "      <td>NaN</td>\n",
       "      <td>NaN</td>\n",
       "      <td>Porsche Macan</td>\n",
       "      <td>Forums</td>\n",
       "      <td>4</td>\n",
       "    </tr>\n",
       "    <tr>\n",
       "      <th>60917</th>\n",
       "      <td>NaN</td>\n",
       "      <td>Well that is another reason for avoiding the 2...</td>\n",
       "      <td>Col Lamb</td>\n",
       "      <td>October 02, 2021</td>\n",
       "      <td>NaN</td>\n",
       "      <td>NaN</td>\n",
       "      <td>NaN</td>\n",
       "      <td>Porsche Macan</td>\n",
       "      <td>Forums</td>\n",
       "      <td>1</td>\n",
       "    </tr>\n",
       "    <tr>\n",
       "      <th>60918</th>\n",
       "      <td>NaN</td>\n",
       "      <td>We don’t do too bad. At current exchange rates...</td>\n",
       "      <td>mark-yorkshire</td>\n",
       "      <td>October 02, 2021</td>\n",
       "      <td>NaN</td>\n",
       "      <td>NaN</td>\n",
       "      <td>NaN</td>\n",
       "      <td>Porsche Macan</td>\n",
       "      <td>Forums</td>\n",
       "      <td>3</td>\n",
       "    </tr>\n",
       "  </tbody>\n",
       "</table>\n",
       "<p>60919 rows × 10 columns</p>\n",
       "</div>"
      ],
      "text/plain": [
       "       Unnamed: 0                                            Comment  \\\n",
       "0             1.0  I'm not sure I have ever commented on a video,...   \n",
       "1             2.0  I’ve always done the cup holder test in all my...   \n",
       "2             3.0  I absolutely love the design of the Stelvio an...   \n",
       "3             4.0  I believe the reason behind the column mounted...   \n",
       "4             5.0  Finally! As a previous 4C Spider and now Giuli...   \n",
       "...           ...                                                ...   \n",
       "60914         NaN  I suppose we should be grateful that at least ...   \n",
       "60915         NaN  Our first macan was a base on 21s with no Pasm...   \n",
       "60916         NaN  For gen3, on the uk configurator PASM is not c...   \n",
       "60917         NaN  Well that is another reason for avoiding the 2...   \n",
       "60918         NaN  We don’t do too bad. At current exchange rates...   \n",
       "\n",
       "                           Name              Date    Pos    Neg    Neu  \\\n",
       "0      \\n @charlesconnor1737\\n        3 years ago  0.207  0.070  0.723   \n",
       "1             \\n @gllegacy87\\n        3 years ago  0.206  0.000  0.794   \n",
       "2          \\n @driftattack11\\n        4 years ago  0.133  0.136  0.731   \n",
       "3         \\n @Black2005Lotus\\n        4 years ago  0.100  0.082  0.818   \n",
       "4          \\n @DrachenBlasen\\n        4 years ago  0.171  0.027  0.802   \n",
       "...                         ...               ...    ...    ...    ...   \n",
       "60914            Wing Commander  October 02, 2021    NaN    NaN    NaN   \n",
       "60915                    sd1985  October 02, 2021    NaN    NaN    NaN   \n",
       "60916                      BanZ  October 02, 2021    NaN    NaN    NaN   \n",
       "60917                  Col Lamb  October 02, 2021    NaN    NaN    NaN   \n",
       "60918            mark-yorkshire  October 02, 2021    NaN    NaN    NaN   \n",
       "\n",
       "                    Model   Source  sentiment_score  \n",
       "0      Alfa Romeo Stelvio  Youtube                5  \n",
       "1      Alfa Romeo Stelvio  Youtube                4  \n",
       "2      Alfa Romeo Stelvio  Youtube                2  \n",
       "3      Alfa Romeo Stelvio  Youtube                4  \n",
       "4      Alfa Romeo Stelvio  Youtube                5  \n",
       "...                   ...      ...              ...  \n",
       "60914       Porsche Macan   Forums                5  \n",
       "60915       Porsche Macan   Forums                3  \n",
       "60916       Porsche Macan   Forums                4  \n",
       "60917       Porsche Macan   Forums                1  \n",
       "60918       Porsche Macan   Forums                3  \n",
       "\n",
       "[60919 rows x 10 columns]"
      ]
     },
     "execution_count": 96,
     "metadata": {},
     "output_type": "execute_result"
    }
   ],
   "source": [
    "raw_df = pd.read_csv(\"/Users/apple/Desktop/combined_final_2.csv\")\n",
    "raw_df"
   ]
  },
  {
   "cell_type": "markdown",
   "metadata": {},
   "source": [
    "# Delete Duplicate tweets ??"
   ]
  },
  {
   "cell_type": "code",
   "execution_count": 97,
   "metadata": {},
   "outputs": [
    {
     "name": "stdout",
     "output_type": "stream",
     "text": [
      "4912 duplicate comments (8.06%) have been removed.\n"
     ]
    },
    {
     "data": {
      "image/png": "[encoded data removed]",
      "text/plain": [
       "<Figure size 640x480 with 1 Axes>"
      ]
     },
     "metadata": {},
     "output_type": "display_data"
    }
   ],
   "source": [
    "\n",
    "initial_rows = len(raw_df)  # Count the rows before removing duplicates\n",
    "\n",
    "raw_df.drop_duplicates(subset='Comment', inplace=True)\n",
    "\n",
    "final_rows = len(raw_df)  # Count the rows after removing duplicates\n",
    "\n",
    "# Calculate the number and percentage of rows removed\n",
    "rows_removed = initial_rows - final_rows\n",
    "percentage_removed = (rows_removed / initial_rows) * 100\n",
    "\n",
    "print(f\"{rows_removed} duplicate comments ({percentage_removed:.2f}%) have been removed.\")\n",
    "\n",
    "# Create a pie chart to show the percentage of rows removed\n",
    "labels = ['Duplicate Comments', 'Remaining Comments']\n",
    "sizes = [percentage_removed, 100 - percentage_removed]\n",
    "colors = ['#f86c6b', 'skyblue']\n",
    "\n",
    "plt.pie(sizes, labels=labels, colors=colors, autopct='%1.1f%%', startangle=140)\n",
    "plt.axis('equal')  # Equal aspect ratio ensures that pie is drawn as a circle.\n",
    "plt.title(\"Percentage of Duplicate Comments Removed\")\n",
    "plt.show()\n"
   ]
  },
  {
   "cell_type": "markdown",
   "metadata": {},
   "source": [
    "# Tweets count by date"
   ]
  },
  {
   "cell_type": "code",
   "execution_count": 98,
   "metadata": {},
   "outputs": [],
   "source": [
    "tweets_per_day = raw_df['Date'].value_counts().sort_index().reset_index(name='counts')"
   ]
  },
  {
   "cell_type": "code",
   "execution_count": 99,
   "metadata": {
    "scrolled": false
   },
   "outputs": [
    {
     "name": "stdout",
     "output_type": "stream",
     "text": [
      "Total None count in 'Date' column: 9994\n",
      "       Year  Month\n",
      "10322  2021     10\n",
      "10329  2019      1\n",
      "10342  2021      7\n",
      "10374  2022      4\n",
      "10377  2022      8\n",
      "...     ...    ...\n",
      "40730  2010      9\n",
      "40734  2015      8\n",
      "42312  2013      3\n",
      "42693  2011      6\n",
      "42926  2012      7\n",
      "\n",
      "[139 rows x 2 columns]\n"
     ]
    }
   ],
   "source": [
    "from dateutil.parser import parse\n",
    "\n",
    "# Assuming 'raw_df' contains a 'date' column\n",
    "def parse_date_string(date_str):\n",
    "    try:\n",
    "        return parse(date_str)\n",
    "    except:\n",
    "        return None\n",
    "\n",
    "raw_df['Date'] = raw_df['Date'].apply(parse_date_string)\n",
    "\n",
    "none_count = raw_df['Date'].isnull().sum()\n",
    "print(\"Total None count in 'Date' column:\", none_count)\n",
    "\n",
    "\n",
    "# Drop rows with invalid dates\n",
    "raw_df.dropna(subset=['Date'], inplace=True)\n",
    "\n",
    "# Convert 'Date' column to datetime format\n",
    "raw_df['Date'] = pd.to_datetime(raw_df['Date'])\n",
    "\n",
    "# Extract the month and year from the 'Date' column\n",
    "raw_df['Year'] = raw_df['Date'].dt.year\n",
    "raw_df['Month'] = raw_df['Date'].dt.month\n",
    "\n",
    "# Get unique combinations of year and month\n",
    "unique_month_years = raw_df[['Year', 'Month']].drop_duplicates()\n",
    "\n",
    "# Print the unique month-year combinations\n",
    "print(unique_month_years)"
   ]
  },
  {
   "cell_type": "code",
   "execution_count": 100,
   "metadata": {},
   "outputs": [
    {
     "name": "stdout",
     "output_type": "stream",
     "text": [
      "Year\n",
      "2009        8\n",
      "2010       21\n",
      "2011       25\n",
      "2012       17\n",
      "2013      268\n",
      "2014      286\n",
      "2015     2290\n",
      "2016     2396\n",
      "2017     3507\n",
      "2018     5475\n",
      "2019     3239\n",
      "2020     3212\n",
      "2021     4813\n",
      "2022    12547\n",
      "2023     7909\n",
      "dtype: int64\n"
     ]
    }
   ],
   "source": [
    "# Assuming 'raw_df' contains a 'Date' column with datetime format\n",
    "# Convert 'Date' column to datetime format (if not already)\n",
    "raw_df['Date'] = pd.to_datetime(raw_df['Date'])\n",
    "\n",
    "# Extract the year from the 'Date' column\n",
    "raw_df['Year'] = raw_df['Date'].dt.year\n",
    "\n",
    "# Calculate the count of data per year\n",
    "data_per_year = raw_df.groupby('Year').size()\n",
    "\n",
    "print(data_per_year)\n"
   ]
  },
  {
   "cell_type": "code",
   "execution_count": 101,
   "metadata": {},
   "outputs": [
    {
     "name": "stdout",
     "output_type": "stream",
     "text": [
      "Total data count: 46013\n"
     ]
    }
   ],
   "source": [
    "# Assuming 'raw_df' contains a 'Date' column with datetime format\n",
    "# Convert 'Date' column to datetime format (if not already)\n",
    "raw_df['Date'] = pd.to_datetime(raw_df['Date'])\n",
    "\n",
    "# Calculate the total count of data across all years\n",
    "total_data_count = len(raw_df)\n",
    "\n",
    "print(\"Total data count:\", total_data_count)"
   ]
  },
  {
   "cell_type": "code",
   "execution_count": 102,
   "metadata": {},
   "outputs": [
    {
     "data": {
      "image/png": "[encoded data removed]",
      "text/plain": [
       "<Figure size 1000x600 with 1 Axes>"
      ]
     },
     "metadata": {},
     "output_type": "display_data"
    }
   ],
   "source": [
    "# 计算每年的评论总数\n",
    "yearly_comment_count = raw_df.groupby('Year')['Comment'].count()\n",
    "\n",
    "# 绘制条形图\n",
    "plt.figure(figsize=(10, 6))\n",
    "yearly_comment_count.plot(kind='bar', color='skyblue')\n",
    "plt.title('Total Comment Count by Year')\n",
    "plt.xlabel('Year')\n",
    "plt.ylabel('Comment Count')\n",
    "plt.xticks(rotation=45)\n",
    "plt.tight_layout()\n",
    "plt.show()"
   ]
  },
  {
   "cell_type": "markdown",
   "metadata": {},
   "source": [
    "<!-- raw_df 沒處理\n",
    "df 包含comment sentiment (train_data)\n",
    "test_df\n",
    "clean_df df -->"
   ]
  },
  {
   "cell_type": "markdown",
   "metadata": {},
   "source": [
    "# Train-Test split"
   ]
  },
  {
   "cell_type": "code",
   "execution_count": 103,
   "metadata": {},
   "outputs": [
    {
     "data": {
      "text/html": [
       "<div>\n",
       "<style scoped>\n",
       "    .dataframe tbody tr th:only-of-type {\n",
       "        vertical-align: middle;\n",
       "    }\n",
       "\n",
       "    .dataframe tbody tr th {\n",
       "        vertical-align: top;\n",
       "    }\n",
       "\n",
       "    .dataframe thead th {\n",
       "        text-align: right;\n",
       "    }\n",
       "</style>\n",
       "<table border=\"1\" class=\"dataframe\">\n",
       "  <thead>\n",
       "    <tr style=\"text-align: right;\">\n",
       "      <th></th>\n",
       "      <th>Comment</th>\n",
       "      <th>sentiment_score</th>\n",
       "    </tr>\n",
       "  </thead>\n",
       "  <tbody>\n",
       "    <tr>\n",
       "      <th>29768</th>\n",
       "      <td>Most likely yes, the front bumper isn't that d...</td>\n",
       "      <td>3</td>\n",
       "    </tr>\n",
       "    <tr>\n",
       "      <th>16767</th>\n",
       "      <td>Well my AUS vin worked...</td>\n",
       "      <td>4</td>\n",
       "    </tr>\n",
       "    <tr>\n",
       "      <th>49106</th>\n",
       "      <td>Good to hear you are well, it looks like you w...</td>\n",
       "      <td>4</td>\n",
       "    </tr>\n",
       "    <tr>\n",
       "      <th>43029</th>\n",
       "      <td>What’s the background to all that road rash?  ...</td>\n",
       "      <td>1</td>\n",
       "    </tr>\n",
       "    <tr>\n",
       "      <th>31984</th>\n",
       "      <td>Every time I look at the front grills, it's cl...</td>\n",
       "      <td>2</td>\n",
       "    </tr>\n",
       "    <tr>\n",
       "      <th>...</th>\n",
       "      <td>...</td>\n",
       "      <td>...</td>\n",
       "    </tr>\n",
       "    <tr>\n",
       "      <th>40861</th>\n",
       "      <td>Thanks Jetbeam, very clear and concise advise ...</td>\n",
       "      <td>4</td>\n",
       "    </tr>\n",
       "    <tr>\n",
       "      <th>13321</th>\n",
       "      <td>The weather was so nice this morning I took th...</td>\n",
       "      <td>5</td>\n",
       "    </tr>\n",
       "    <tr>\n",
       "      <th>44047</th>\n",
       "      <td>Had my first service notice pop up on the dash...</td>\n",
       "      <td>1</td>\n",
       "    </tr>\n",
       "    <tr>\n",
       "      <th>42888</th>\n",
       "      <td>If it can keep up with you !!Dont know, I expe...</td>\n",
       "      <td>3</td>\n",
       "    </tr>\n",
       "    <tr>\n",
       "      <th>26091</th>\n",
       "      <td>Yeah, that was my gut instinct. But I don't ha...</td>\n",
       "      <td>3</td>\n",
       "    </tr>\n",
       "  </tbody>\n",
       "</table>\n",
       "<p>32209 rows × 2 columns</p>\n",
       "</div>"
      ],
      "text/plain": [
       "                                                 Comment  sentiment_score\n",
       "29768  Most likely yes, the front bumper isn't that d...                3\n",
       "16767                          Well my AUS vin worked...                4\n",
       "49106  Good to hear you are well, it looks like you w...                4\n",
       "43029  What’s the background to all that road rash?  ...                1\n",
       "31984  Every time I look at the front grills, it's cl...                2\n",
       "...                                                  ...              ...\n",
       "40861  Thanks Jetbeam, very clear and concise advise ...                4\n",
       "13321  The weather was so nice this morning I took th...                5\n",
       "44047  Had my first service notice pop up on the dash...                1\n",
       "42888  If it can keep up with you !!Dont know, I expe...                3\n",
       "26091  Yeah, that was my gut instinct. But I don't ha...                3\n",
       "\n",
       "[32209 rows x 2 columns]"
      ]
     },
     "execution_count": 103,
     "metadata": {},
     "output_type": "execute_result"
    }
   ],
   "source": [
    "# 仅保留'Comment'和'sentiment_score'两列\n",
    "raw_df = raw_df[['Comment', 'sentiment_score']]\n",
    "\n",
    "# 使用stratify参数确保在train和test中的'sentiment_score'平均分布\n",
    "train_df, test_df = train_test_split(raw_df, test_size=0.3, stratify=raw_df['sentiment_score'], random_state=42)\n",
    "\n",
    "# 如果你需要，你还可以去掉含有NaN的行\n",
    "train_df = train_df.dropna(subset=['Comment', 'sentiment_score'])\n",
    "test_df = test_df.dropna(subset=['Comment', 'sentiment_score'])\n",
    "train_df"
   ]
  },
  {
   "cell_type": "code",
   "execution_count": 104,
   "metadata": {},
   "outputs": [
    {
     "data": {
      "text/plain": [
       "Counter({3: 9050, 1: 6442, 2: 5807, 4: 5527, 5: 5383})"
      ]
     },
     "execution_count": 104,
     "metadata": {},
     "output_type": "execute_result"
    }
   ],
   "source": [
    "Counter(train_df['sentiment_score'].values)"
   ]
  },
  {
   "cell_type": "markdown",
   "metadata": {},
   "source": [
    "# Tweets Deep Cleaning (pre-procesisng)\n"
   ]
  },
  {
   "cell_type": "code",
   "execution_count": 105,
   "metadata": {},
   "outputs": [
    {
     "data": {
      "text/html": [
       "<div>\n",
       "<style scoped>\n",
       "    .dataframe tbody tr th:only-of-type {\n",
       "        vertical-align: middle;\n",
       "    }\n",
       "\n",
       "    .dataframe tbody tr th {\n",
       "        vertical-align: top;\n",
       "    }\n",
       "\n",
       "    .dataframe thead th {\n",
       "        text-align: right;\n",
       "    }\n",
       "</style>\n",
       "<table border=\"1\" class=\"dataframe\">\n",
       "  <thead>\n",
       "    <tr style=\"text-align: right;\">\n",
       "      <th></th>\n",
       "      <th>Comment</th>\n",
       "      <th>sentiment_score</th>\n",
       "    </tr>\n",
       "  </thead>\n",
       "  <tbody>\n",
       "    <tr>\n",
       "      <th>29768</th>\n",
       "      <td>Most likely yes, the front bumper isn't that d...</td>\n",
       "      <td>3</td>\n",
       "    </tr>\n",
       "    <tr>\n",
       "      <th>16767</th>\n",
       "      <td>Well my AUS vin worked...</td>\n",
       "      <td>4</td>\n",
       "    </tr>\n",
       "    <tr>\n",
       "      <th>49106</th>\n",
       "      <td>Good to hear you are well, it looks like you w...</td>\n",
       "      <td>4</td>\n",
       "    </tr>\n",
       "    <tr>\n",
       "      <th>43029</th>\n",
       "      <td>What’s the background to all that road rash?  ...</td>\n",
       "      <td>1</td>\n",
       "    </tr>\n",
       "    <tr>\n",
       "      <th>31984</th>\n",
       "      <td>Every time I look at the front grills, it's cl...</td>\n",
       "      <td>2</td>\n",
       "    </tr>\n",
       "    <tr>\n",
       "      <th>...</th>\n",
       "      <td>...</td>\n",
       "      <td>...</td>\n",
       "    </tr>\n",
       "    <tr>\n",
       "      <th>40861</th>\n",
       "      <td>Thanks Jetbeam, very clear and concise advise ...</td>\n",
       "      <td>4</td>\n",
       "    </tr>\n",
       "    <tr>\n",
       "      <th>13321</th>\n",
       "      <td>The weather was so nice this morning I took th...</td>\n",
       "      <td>5</td>\n",
       "    </tr>\n",
       "    <tr>\n",
       "      <th>44047</th>\n",
       "      <td>Had my first service notice pop up on the dash...</td>\n",
       "      <td>1</td>\n",
       "    </tr>\n",
       "    <tr>\n",
       "      <th>42888</th>\n",
       "      <td>If it can keep up with you !!Dont know, I expe...</td>\n",
       "      <td>3</td>\n",
       "    </tr>\n",
       "    <tr>\n",
       "      <th>26091</th>\n",
       "      <td>Yeah, that was my gut instinct. But I don't ha...</td>\n",
       "      <td>3</td>\n",
       "    </tr>\n",
       "  </tbody>\n",
       "</table>\n",
       "<p>32209 rows × 2 columns</p>\n",
       "</div>"
      ],
      "text/plain": [
       "                                                 Comment  sentiment_score\n",
       "29768  Most likely yes, the front bumper isn't that d...                3\n",
       "16767                          Well my AUS vin worked...                4\n",
       "49106  Good to hear you are well, it looks like you w...                4\n",
       "43029  What’s the background to all that road rash?  ...                1\n",
       "31984  Every time I look at the front grills, it's cl...                2\n",
       "...                                                  ...              ...\n",
       "40861  Thanks Jetbeam, very clear and concise advise ...                4\n",
       "13321  The weather was so nice this morning I took th...                5\n",
       "44047  Had my first service notice pop up on the dash...                1\n",
       "42888  If it can keep up with you !!Dont know, I expe...                3\n",
       "26091  Yeah, that was my gut instinct. But I don't ha...                3\n",
       "\n",
       "[32209 rows x 2 columns]"
      ]
     },
     "execution_count": 105,
     "metadata": {},
     "output_type": "execute_result"
    }
   ],
   "source": [
    "clean_df = train_df[['Comment','sentiment_score']]\n",
    "clean_df"
   ]
  },
  {
   "cell_type": "markdown",
   "metadata": {},
   "source": [
    "# FUNCTIONS TO CLEAN THE TWEETS"
   ]
  },
  {
   "cell_type": "code",
   "execution_count": 106,
   "metadata": {},
   "outputs": [],
   "source": [
    "##CUSTOM DEFINED FUNCTIONS TO CLEAN THE TWEETS\n",
    "\n",
    "#Clean emojis from text\n",
    "# def strip_emoji(text):\n",
    "#     return re.sub(emoji.get_emoji_regexp(), r\"\", text) #remove emoji\n",
    "\n",
    "#Remove punctuations, links, mentions and \\r\\n new line characters\n",
    "def strip_all_entities(text): \n",
    "    text = text.replace('\\r', '').replace('\\n', ' ').replace('\\n', ' ').lower() #remove \\n and \\r and lowercase\n",
    "    text = re.sub(r\"(?:\\@|https?\\://)\\S+\", \"\", text) #remove links and mentions\n",
    "    text = re.sub(r'[^\\x00-\\x7f]',r'', text) #remove non utf8/ascii characters such as '\\x9a\\x91\\x97\\x9a\\x97'\n",
    "    banned_list= string.punctuation + 'Ã'+'±'+'ã'+'¼'+'â'+'»'+'§'\n",
    "    table = str.maketrans('', '', banned_list)\n",
    "    text = text.translate(table)\n",
    "    return text\n",
    "\n",
    "#clean hashtags at the end of the sentence, and keep those in the middle of the sentence by removing just the # symbol\n",
    "def clean_hashtags(tweet):\n",
    "    new_tweet = \" \".join(word.strip() for word in re.split('#(?!(?:hashtag)\\b)[\\w-]+(?=(?:\\s+#[\\w-]+)*\\s*$)', tweet)) #remove last hashtags\n",
    "    new_tweet2 = \" \".join(word.strip() for word in re.split('#|_', new_tweet)) #remove hashtags symbol from words in the middle of the sentence\n",
    "    return new_tweet2\n",
    "\n",
    "#Filter special characters such as & and $ present in some words\n",
    "def filter_chars(a):\n",
    "    sent = []\n",
    "    for word in a.split(' '):\n",
    "        if ('$' in word) | ('&' in word):\n",
    "            sent.append('')\n",
    "        else:\n",
    "            sent.append(word)\n",
    "    return ' '.join(sent)\n",
    "\n",
    "def remove_mult_spaces(text): # remove multiple spaces\n",
    "    return re.sub(\"\\s\\s+\" , \" \", text)\n",
    "\n"
   ]
  },
  {
   "cell_type": "code",
   "execution_count": 107,
   "metadata": {},
   "outputs": [
    {
     "name": "stderr",
     "output_type": "stream",
     "text": [
      "[nltk_data] Downloading package stopwords to /Users/apple/nltk_data...\n",
      "[nltk_data]   Package stopwords is already up-to-date!\n",
      "[nltk_data] Downloading package punkt to /Users/apple/nltk_data...\n",
      "[nltk_data]   Package punkt is already up-to-date!\n"
     ]
    },
    {
     "name": "stdout",
     "output_type": "stream",
     "text": [
      "Top 20 most common words after preprocessing:\n",
      "car: 9193\n",
      "'s: 7561\n",
      "n't: 7173\n",
      "would: 5101\n",
      "get: 4929\n",
      "one: 4464\n",
      "like: 4349\n",
      "new: 3843\n",
      "said: 3278\n",
      "'': 3251\n",
      "good: 2919\n",
      "think: 2914\n",
      "x3: 2735\n",
      "'m: 2712\n",
      "also: 2475\n",
      "bmw: 2473\n",
      "dealer: 2463\n",
      "time: 2441\n",
      "``: 2424\n",
      "know: 2377\n",
      "Total words in original comments: 1449653\n",
      "Total stopwords removed: 792602\n",
      "Percentage of stopwords removed: 54.68%\n",
      "Total stopwords removed from clean_df: 792602\n",
      "Total stopwords removed from test_df: 340738\n"
     ]
    }
   ],
   "source": [
    "nltk.download('stopwords')\n",
    "nltk.download('punkt')\n",
    "\n",
    "# Load stopwords\n",
    "stop_words = set(stopwords.words('english'))\n",
    "\n",
    "# Define the list of custom stopwords\n",
    "custom_stopwords = [\n",
    "    'the', 'a', 'I', 'and', 'is', 'it', 'of', 'in', 'on', 'for', 'that', 'you', 'have'\n",
    "]\n",
    "\n",
    "# # Define the list of custom stopwords\n",
    "# custom_stopwords = ['the', 'a', 'I', 'and', 'is', 'it', 'of', 'in', 'on', 'for', 'that', 'you', 'have', 'my', 'but', 'be', 'as', 'was', 'not', 'at', 'from', 'this', 'they', 'if', 'or', 'will', 'an', 'so', 'just', 'had', 'would', 'when', 'your', 'can', 'about', 'up', 'one', 'do', 'more', 'what', 'than', 'out', 'no', 'which', 'any', 'there', 'by', 'been', 'some', 'them', \"I'm\", \"it's\", 'then', 'know', 'got', 'see', 'off', 'back', 'much', 'also', \"don't\", 'how', 'time', 'other', 'am', 'over', 'still', 'did', 'we', 'really', 'could', 'go', 'their', 'were']\n",
    "\n",
    "\n",
    "# Function to remove stopwords from text\n",
    "def remove_stopwords(text):\n",
    "    # Normalize and tokenize the text\n",
    "    words = word_tokenize(text.lower())\n",
    "    \n",
    "    # Remove punctuation\n",
    "    words = [word for word in words if word not in string.punctuation]\n",
    "    # Remove punctuation and special characters\n",
    "    words = [word for word in words if word not in string.punctuation and word not in [ '’', '...']]\n",
    "    \n",
    "    # Remove stopwords and custom stopwords\n",
    "    filtered_words = [word for word in words if word not in stop_words and word not in custom_stopwords]\n",
    "    return ' '.join(filtered_words)\n",
    "\n",
    "# Apply the remove_stopwords function to the 'Comment' column\n",
    "clean_df['Cleaned_Comment'] = clean_df['Comment'].apply(remove_stopwords)\n",
    "test_df['Cleaned_Comment'] = test_df['Comment'].apply(remove_stopwords)\n",
    "\n",
    "# Print the top 20 most common words after preprocessing\n",
    "all_words_clean = ' '.join(clean_df['Cleaned_Comment']).split()\n",
    "word_counts_clean = Counter(all_words_clean)\n",
    "\n",
    "print(\"Top 20 most common words after preprocessing:\")\n",
    "for word, count in word_counts_clean.most_common(20):\n",
    "    print(f\"{word}: {count}\")\n",
    "\n",
    "# Calculate total stopwords removed and percentage\n",
    "total_words_original = clean_df['Comment'].apply(lambda text: len(text.split())).sum()\n",
    "total_stopwords_removed = clean_df['Cleaned_Comment'].apply(lambda text: len(text.split())).sum()\n",
    "percentage_removed = (total_stopwords_removed / total_words_original) * 100\n",
    "\n",
    "print(f\"Total words in original comments: {total_words_original}\")\n",
    "print(f\"Total stopwords removed: {total_stopwords_removed}\")\n",
    "print(f\"Percentage of stopwords removed: {percentage_removed:.2f}%\")\n",
    "\n",
    "# Calculate total stopwords removed for clean_df and test_df\n",
    "total_stopwords_removed_clean_df = clean_df['Cleaned_Comment'].apply(lambda text: len(text.split())).sum()\n",
    "total_stopwords_removed_test_df = test_df['Cleaned_Comment'].apply(lambda text: len(text.split())).sum()\n",
    "\n",
    "print(f\"Total stopwords removed from clean_df: {total_stopwords_removed_clean_df}\")\n",
    "print(f\"Total stopwords removed from test_df: {total_stopwords_removed_test_df}\")\n"
   ]
  },
  {
   "cell_type": "code",
   "execution_count": 108,
   "metadata": {},
   "outputs": [
    {
     "data": {
      "text/html": [
       "<div>\n",
       "<style scoped>\n",
       "    .dataframe tbody tr th:only-of-type {\n",
       "        vertical-align: middle;\n",
       "    }\n",
       "\n",
       "    .dataframe tbody tr th {\n",
       "        vertical-align: top;\n",
       "    }\n",
       "\n",
       "    .dataframe thead th {\n",
       "        text-align: right;\n",
       "    }\n",
       "</style>\n",
       "<table border=\"1\" class=\"dataframe\">\n",
       "  <thead>\n",
       "    <tr style=\"text-align: right;\">\n",
       "      <th></th>\n",
       "      <th>Comment</th>\n",
       "      <th>sentiment_score</th>\n",
       "      <th>Cleaned_Comment</th>\n",
       "    </tr>\n",
       "  </thead>\n",
       "  <tbody>\n",
       "    <tr>\n",
       "      <th>29768</th>\n",
       "      <td>Most likely yes, the front bumper isn't that d...</td>\n",
       "      <td>3</td>\n",
       "      <td>likely yes front bumper n't different plus acc...</td>\n",
       "    </tr>\n",
       "    <tr>\n",
       "      <th>16767</th>\n",
       "      <td>Well my AUS vin worked...</td>\n",
       "      <td>4</td>\n",
       "      <td>well aus vin worked</td>\n",
       "    </tr>\n",
       "    <tr>\n",
       "      <th>49106</th>\n",
       "      <td>Good to hear you are well, it looks like you w...</td>\n",
       "      <td>4</td>\n",
       "      <td>good hear well looks like punched kinetic energy</td>\n",
       "    </tr>\n",
       "    <tr>\n",
       "      <th>43029</th>\n",
       "      <td>What’s the background to all that road rash?  ...</td>\n",
       "      <td>1</td>\n",
       "      <td>background road rash high mileage</td>\n",
       "    </tr>\n",
       "    <tr>\n",
       "      <th>31984</th>\n",
       "      <td>Every time I look at the front grills, it's cl...</td>\n",
       "      <td>2</td>\n",
       "      <td>every time look front grills 's closed lol art...</td>\n",
       "    </tr>\n",
       "    <tr>\n",
       "      <th>...</th>\n",
       "      <td>...</td>\n",
       "      <td>...</td>\n",
       "      <td>...</td>\n",
       "    </tr>\n",
       "    <tr>\n",
       "      <th>40861</th>\n",
       "      <td>Thanks Jetbeam, very clear and concise advise ...</td>\n",
       "      <td>4</td>\n",
       "      <td>thanks jetbeam clear concise advise gladly tak...</td>\n",
       "    </tr>\n",
       "    <tr>\n",
       "      <th>13321</th>\n",
       "      <td>The weather was so nice this morning I took th...</td>\n",
       "      <td>5</td>\n",
       "      <td>weather nice morning took opportunity break op...</td>\n",
       "    </tr>\n",
       "    <tr>\n",
       "      <th>44047</th>\n",
       "      <td>Had my first service notice pop up on the dash...</td>\n",
       "      <td>1</td>\n",
       "      <td>first service notice pop dash couple days ago ...</td>\n",
       "    </tr>\n",
       "    <tr>\n",
       "      <th>42888</th>\n",
       "      <td>If it can keep up with you !!Dont know, I expe...</td>\n",
       "      <td>3</td>\n",
       "      <td>keep dont know expect 'd give approx location ...</td>\n",
       "    </tr>\n",
       "    <tr>\n",
       "      <th>26091</th>\n",
       "      <td>Yeah, that was my gut instinct. But I don't ha...</td>\n",
       "      <td>3</td>\n",
       "      <td>yeah gut instinct n't lot knowledge comes cars...</td>\n",
       "    </tr>\n",
       "  </tbody>\n",
       "</table>\n",
       "<p>32209 rows × 3 columns</p>\n",
       "</div>"
      ],
      "text/plain": [
       "                                                 Comment  sentiment_score  \\\n",
       "29768  Most likely yes, the front bumper isn't that d...                3   \n",
       "16767                          Well my AUS vin worked...                4   \n",
       "49106  Good to hear you are well, it looks like you w...                4   \n",
       "43029  What’s the background to all that road rash?  ...                1   \n",
       "31984  Every time I look at the front grills, it's cl...                2   \n",
       "...                                                  ...              ...   \n",
       "40861  Thanks Jetbeam, very clear and concise advise ...                4   \n",
       "13321  The weather was so nice this morning I took th...                5   \n",
       "44047  Had my first service notice pop up on the dash...                1   \n",
       "42888  If it can keep up with you !!Dont know, I expe...                3   \n",
       "26091  Yeah, that was my gut instinct. But I don't ha...                3   \n",
       "\n",
       "                                         Cleaned_Comment  \n",
       "29768  likely yes front bumper n't different plus acc...  \n",
       "16767                                well aus vin worked  \n",
       "49106   good hear well looks like punched kinetic energy  \n",
       "43029                  background road rash high mileage  \n",
       "31984  every time look front grills 's closed lol art...  \n",
       "...                                                  ...  \n",
       "40861  thanks jetbeam clear concise advise gladly tak...  \n",
       "13321  weather nice morning took opportunity break op...  \n",
       "44047  first service notice pop dash couple days ago ...  \n",
       "42888  keep dont know expect 'd give approx location ...  \n",
       "26091  yeah gut instinct n't lot knowledge comes cars...  \n",
       "\n",
       "[32209 rows x 3 columns]"
      ]
     },
     "execution_count": 108,
     "metadata": {},
     "output_type": "execute_result"
    }
   ],
   "source": [
    "clean_df"
   ]
  },
  {
   "cell_type": "markdown",
   "metadata": {},
   "source": [
    "# show text_len histogram"
   ]
  },
  {
   "cell_type": "code",
   "execution_count": 109,
   "metadata": {},
   "outputs": [],
   "source": [
    "clean_df['text_len'] = clean_df['Cleaned_Comment'].apply(len)\n",
    "\n",
    "\n",
    "# 計算每個留言的長度並新增到clean_df\n",
    "clean_df['text_len'] = clean_df['Cleaned_Comment'].apply(len)"
   ]
  },
  {
   "cell_type": "code",
   "execution_count": 110,
   "metadata": {},
   "outputs": [
    {
     "data": {
      "image/png": "[encoded data removed]",
      "text/plain": [
       "<Figure size 1000x600 with 1 Axes>"
      ]
     },
     "metadata": {},
     "output_type": "display_data"
    }
   ],
   "source": [
    "# Create a histogram\n",
    "plt.figure(figsize=(10, 6))  # 使用相同的 figsize\n",
    "plt.hist(clean_df['text_len'], bins=20, color='skyblue', edgecolor='black')  # 使用相同的颜色\n",
    "plt.title('Histogram of Text Lengths')\n",
    "plt.xlabel('Text Length')\n",
    "plt.ylabel('Count')\n",
    "plt.tight_layout()\n",
    "plt.show()"
   ]
  },
  {
   "cell_type": "code",
   "execution_count": 111,
   "metadata": {},
   "outputs": [
    {
     "name": "stdout",
     "output_type": "stream",
     "text": [
      "The mean text length is: 159.76\n"
     ]
    }
   ],
   "source": [
    "# Calculate the mean of the text_len column\n",
    "mean_text_len = clean_df['text_len'].mean()\n",
    "\n",
    "print(f\"The mean text length is: {mean_text_len:.2f}\")"
   ]
  },
  {
   "cell_type": "code",
   "execution_count": null,
   "metadata": {},
   "outputs": [],
   "source": []
  },
  {
   "cell_type": "markdown",
   "metadata": {},
   "source": [
    "# "
   ]
  },
  {
   "cell_type": "markdown",
   "metadata": {},
   "source": [
    "# check removed too much text"
   ]
  },
  {
   "cell_type": "code",
   "execution_count": 112,
   "metadata": {},
   "outputs": [
    {
     "name": "stdout",
     "output_type": "stream",
     "text": [
      "In clean_df, there are 673 entries with less than 10 characters.\n"
     ]
    },
    {
     "data": {
      "image/png": "[encoded data removed]",
      "text/plain": [
       "<Figure size 1000x600 with 1 Axes>"
      ]
     },
     "metadata": {},
     "output_type": "display_data"
    },
    {
     "name": "stdout",
     "output_type": "stream",
     "text": [
      "In test_df, there are 274 entries with less than 10 characters.\n"
     ]
    },
    {
     "data": {
      "image/png": "[encoded data removed]",
      "text/plain": [
       "<Figure size 1000x600 with 1 Axes>"
      ]
     },
     "metadata": {},
     "output_type": "display_data"
    }
   ],
   "source": [
    "def print_and_plot(df, df_name):\n",
    "    # Assuming the column name is 'Comments'\n",
    "    df['text_len'] = df['Cleaned_Comment'].apply(lambda x: len(str(x)))\n",
    "    short_texts_count = len(df[df['text_len'] < 10])\n",
    "\n",
    "    # Print the result\n",
    "    print(f\"In {df_name}, there are {short_texts_count} entries with less than 10 characters.\")\n",
    "\n",
    "    # Visualization\n",
    "    plt.figure(figsize=(10,6))\n",
    "    ax = sns.countplot(x='text_len', data=df[df['text_len'] < 10], palette='Blues')\n",
    "    plt.title(f'{df_name} Comments with less than 10 characters')\n",
    "    plt.yticks([])\n",
    "    ax.bar_label(ax.containers[0])\n",
    "    plt.ylabel('count')\n",
    "    plt.xlabel('Text Length')\n",
    "    plt.show()\n",
    "\n",
    "# Call the function for both DataFrames\n",
    "print_and_plot(clean_df, \"clean_df\")\n",
    "print_and_plot(test_df, \"test_df\")\n"
   ]
  },
  {
   "cell_type": "markdown",
   "metadata": {},
   "source": [
    "This means that some tweets contained only mentions, hashtags and links, which have been removed. We will drop these empty tweets and also those with less than 5 words."
   ]
  },
  {
   "cell_type": "code",
   "execution_count": 85,
   "metadata": {},
   "outputs": [
    {
     "name": "stdout",
     "output_type": "stream",
     "text": [
      "The percentage of rows dropped from clean_df: 1.63%\n",
      "The percentage of rows dropped from test_df: 1.44%\n"
     ]
    }
   ],
   "source": [
    "# Store the original number of rows\n",
    "original_clean_df_count = len(clean_df)\n",
    "original_test_df_count = len(test_df)\n",
    "\n",
    "def drop_short_and_empty_tweets(df):\n",
    "    # Drop NaN or empty values\n",
    "    df.dropna(subset=['Cleaned_Comment'], inplace=True)\n",
    "\n",
    "    # Drop rows with less than 5 words\n",
    "    df = df[df['Cleaned_Comment'].apply(lambda x: len(str(x).split()) >= 2)]\n",
    "    return df\n",
    "\n",
    "clean_df = drop_short_and_empty_tweets(clean_df)\n",
    "test_df = drop_short_and_empty_tweets(test_df)\n",
    "\n",
    "# Calculate and print the percentage drop for clean_df\n",
    "percentage_drop_clean = (original_clean_df_count - len(clean_df)) / original_clean_df_count * 100\n",
    "print(f\"The percentage of rows dropped from clean_df: {percentage_drop_clean:.2f}%\")\n",
    "\n",
    "# Calculate and print the percentage drop for test_df\n",
    "percentage_drop_test = (original_test_df_count - len(test_df)) / original_test_df_count * 100\n",
    "print(f\"The percentage of rows dropped from test_df: {percentage_drop_test:.2f}%\")\n"
   ]
  },
  {
   "cell_type": "code",
   "execution_count": 86,
   "metadata": {
    "scrolled": false
   },
   "outputs": [
    {
     "data": {
      "text/html": [
       "<div>\n",
       "<style scoped>\n",
       "    .dataframe tbody tr th:only-of-type {\n",
       "        vertical-align: middle;\n",
       "    }\n",
       "\n",
       "    .dataframe tbody tr th {\n",
       "        vertical-align: top;\n",
       "    }\n",
       "\n",
       "    .dataframe thead th {\n",
       "        text-align: right;\n",
       "    }\n",
       "</style>\n",
       "<table border=\"1\" class=\"dataframe\">\n",
       "  <thead>\n",
       "    <tr style=\"text-align: right;\">\n",
       "      <th></th>\n",
       "      <th>Comment</th>\n",
       "      <th>sentiment_score</th>\n",
       "      <th>Cleaned_Comment</th>\n",
       "      <th>text_len</th>\n",
       "    </tr>\n",
       "  </thead>\n",
       "  <tbody>\n",
       "    <tr>\n",
       "      <th>29768</th>\n",
       "      <td>Most likely yes, the front bumper isn't that d...</td>\n",
       "      <td>3</td>\n",
       "      <td>likely yes front bumper n't different plus acc...</td>\n",
       "      <td>58</td>\n",
       "    </tr>\n",
       "    <tr>\n",
       "      <th>16767</th>\n",
       "      <td>Well my AUS vin worked...</td>\n",
       "      <td>4</td>\n",
       "      <td>well aus vin worked</td>\n",
       "      <td>19</td>\n",
       "    </tr>\n",
       "    <tr>\n",
       "      <th>49106</th>\n",
       "      <td>Good to hear you are well, it looks like you w...</td>\n",
       "      <td>4</td>\n",
       "      <td>good hear well looks like punched kinetic energy</td>\n",
       "      <td>48</td>\n",
       "    </tr>\n",
       "    <tr>\n",
       "      <th>43029</th>\n",
       "      <td>What’s the background to all that road rash?  ...</td>\n",
       "      <td>1</td>\n",
       "      <td>background road rash high mileage</td>\n",
       "      <td>33</td>\n",
       "    </tr>\n",
       "    <tr>\n",
       "      <th>31984</th>\n",
       "      <td>Every time I look at the front grills, it's cl...</td>\n",
       "      <td>2</td>\n",
       "      <td>every time look front grills 's closed lol art...</td>\n",
       "      <td>156</td>\n",
       "    </tr>\n",
       "    <tr>\n",
       "      <th>...</th>\n",
       "      <td>...</td>\n",
       "      <td>...</td>\n",
       "      <td>...</td>\n",
       "      <td>...</td>\n",
       "    </tr>\n",
       "    <tr>\n",
       "      <th>40861</th>\n",
       "      <td>Thanks Jetbeam, very clear and concise advise ...</td>\n",
       "      <td>4</td>\n",
       "      <td>thanks jetbeam clear concise advise gladly tak...</td>\n",
       "      <td>158</td>\n",
       "    </tr>\n",
       "    <tr>\n",
       "      <th>13321</th>\n",
       "      <td>The weather was so nice this morning I took th...</td>\n",
       "      <td>5</td>\n",
       "      <td>weather nice morning took opportunity break op...</td>\n",
       "      <td>172</td>\n",
       "    </tr>\n",
       "    <tr>\n",
       "      <th>44047</th>\n",
       "      <td>Had my first service notice pop up on the dash...</td>\n",
       "      <td>1</td>\n",
       "      <td>first service notice pop dash couple days ago ...</td>\n",
       "      <td>395</td>\n",
       "    </tr>\n",
       "    <tr>\n",
       "      <th>42888</th>\n",
       "      <td>If it can keep up with you !!Dont know, I expe...</td>\n",
       "      <td>3</td>\n",
       "      <td>keep dont know expect 'd give approx location ...</td>\n",
       "      <td>116</td>\n",
       "    </tr>\n",
       "    <tr>\n",
       "      <th>26091</th>\n",
       "      <td>Yeah, that was my gut instinct. But I don't ha...</td>\n",
       "      <td>3</td>\n",
       "      <td>yeah gut instinct n't lot knowledge comes cars...</td>\n",
       "      <td>204</td>\n",
       "    </tr>\n",
       "  </tbody>\n",
       "</table>\n",
       "<p>31683 rows × 4 columns</p>\n",
       "</div>"
      ],
      "text/plain": [
       "                                                 Comment  sentiment_score  \\\n",
       "29768  Most likely yes, the front bumper isn't that d...                3   \n",
       "16767                          Well my AUS vin worked...                4   \n",
       "49106  Good to hear you are well, it looks like you w...                4   \n",
       "43029  What’s the background to all that road rash?  ...                1   \n",
       "31984  Every time I look at the front grills, it's cl...                2   \n",
       "...                                                  ...              ...   \n",
       "40861  Thanks Jetbeam, very clear and concise advise ...                4   \n",
       "13321  The weather was so nice this morning I took th...                5   \n",
       "44047  Had my first service notice pop up on the dash...                1   \n",
       "42888  If it can keep up with you !!Dont know, I expe...                3   \n",
       "26091  Yeah, that was my gut instinct. But I don't ha...                3   \n",
       "\n",
       "                                         Cleaned_Comment  text_len  \n",
       "29768  likely yes front bumper n't different plus acc...        58  \n",
       "16767                                well aus vin worked        19  \n",
       "49106   good hear well looks like punched kinetic energy        48  \n",
       "43029                  background road rash high mileage        33  \n",
       "31984  every time look front grills 's closed lol art...       156  \n",
       "...                                                  ...       ...  \n",
       "40861  thanks jetbeam clear concise advise gladly tak...       158  \n",
       "13321  weather nice morning took opportunity break op...       172  \n",
       "44047  first service notice pop dash couple days ago ...       395  \n",
       "42888  keep dont know expect 'd give approx location ...       116  \n",
       "26091  yeah gut instinct n't lot knowledge comes cars...       204  \n",
       "\n",
       "[31683 rows x 4 columns]"
      ]
     },
     "execution_count": 86,
     "metadata": {},
     "output_type": "execute_result"
    }
   ],
   "source": [
    "clean_df"
   ]
  },
  {
   "cell_type": "code",
   "execution_count": null,
   "metadata": {},
   "outputs": [],
   "source": []
  },
  {
   "cell_type": "markdown",
   "metadata": {},
   "source": [
    "# Training data deeper cleaning"
   ]
  },
  {
   "cell_type": "code",
   "execution_count": 87,
   "metadata": {},
   "outputs": [],
   "source": [
    "tokenizer = BertTokenizerFast.from_pretrained('bert-base-uncased')"
   ]
  },
  {
   "cell_type": "code",
   "execution_count": 88,
   "metadata": {},
   "outputs": [],
   "source": [
    "token_lens = []\n",
    "\n",
    "for txt in clean_df['Cleaned_Comment'].values:\n",
    "    tokens = tokenizer.encode(txt, max_length=512, truncation=True)\n",
    "    token_lens.append(len(tokens))\n",
    "    \n",
    "max_len=np.max(token_lens)"
   ]
  },
  {
   "cell_type": "code",
   "execution_count": 89,
   "metadata": {},
   "outputs": [
    {
     "name": "stdout",
     "output_type": "stream",
     "text": [
      "MAX TOKENIZED SENTENCE LENGTH: 384\n"
     ]
    }
   ],
   "source": [
    "print(f\"MAX TOKENIZED SENTENCE LENGTH: {max_len}\")"
   ]
  },
  {
   "cell_type": "markdown",
   "metadata": {},
   "source": [
    "# Test data deeper cleaning"
   ]
  },
  {
   "cell_type": "code",
   "execution_count": 90,
   "metadata": {},
   "outputs": [],
   "source": [
    "token_lens_test = []\n",
    "\n",
    "for txt in test_df['Cleaned_Comment'].values:\n",
    "    tokens = tokenizer.encode(txt, max_length=512, truncation=True)\n",
    "    token_lens_test.append(len(tokens))\n",
    "    \n",
    "max_len=np.max(token_lens_test)"
   ]
  },
  {
   "cell_type": "code",
   "execution_count": 91,
   "metadata": {},
   "outputs": [
    {
     "name": "stdout",
     "output_type": "stream",
     "text": [
      "MAX TOKENIZED SENTENCE LENGTH: 341\n"
     ]
    }
   ],
   "source": [
    "print(f\"MAX TOKENIZED SENTENCE LENGTH: {max_len}\")"
   ]
  },
  {
   "cell_type": "markdown",
   "metadata": {},
   "source": [
    "perform a further cleaning checking the tokenizer version of the sentences.\\"
   ]
  },
  {
   "cell_type": "markdown",
   "metadata": {},
   "source": [
    "# Sentiment column analysis "
   ]
  },
  {
   "cell_type": "code",
   "execution_count": 29,
   "metadata": {
    "scrolled": false
   },
   "outputs": [
    {
     "data": {
      "text/plain": [
       "sentiment_score\n",
       "3    8352\n",
       "2    5578\n",
       "1    5487\n",
       "4    5209\n",
       "5    4122\n",
       "Name: count, dtype: int64"
      ]
     },
     "execution_count": 29,
     "metadata": {},
     "output_type": "execute_result"
    }
   ],
   "source": [
    "clean_df['sentiment_score'].value_counts()"
   ]
  },
  {
   "cell_type": "code",
   "execution_count": 30,
   "metadata": {},
   "outputs": [
    {
     "name": "stderr",
     "output_type": "stream",
     "text": [
      "/var/folders/6t/smh8jz1x54qg9kcw_mdl7zdc0000gn/T/ipykernel_20697/4130091352.py:5: SettingWithCopyWarning: \n",
      "A value is trying to be set on a copy of a slice from a DataFrame.\n",
      "Try using .loc[row_indexer,col_indexer] = value instead\n",
      "\n",
      "See the caveats in the documentation: https://pandas.pydata.org/pandas-docs/stable/user_guide/indexing.html#returning-a-view-versus-a-copy\n",
      "  clean_df['sentiment_score'] = clean_df['sentiment_score'].replace(replace_values)\n"
     ]
    }
   ],
   "source": [
    "# 定义要替换的值\n",
    "replace_values = {1: 0, 2: 0, 3: 1, 4: 2, 5: 2}\n",
    "\n",
    "# 使用replace函数应用这些替换\n",
    "clean_df['sentiment_score'] = clean_df['sentiment_score'].replace(replace_values)\n",
    "test_df['sentiment_score'] = test_df['sentiment_score'].replace(replace_values)"
   ]
  },
  {
   "cell_type": "code",
   "execution_count": 31,
   "metadata": {},
   "outputs": [
    {
     "data": {
      "text/html": [
       "<div>\n",
       "<style scoped>\n",
       "    .dataframe tbody tr th:only-of-type {\n",
       "        vertical-align: middle;\n",
       "    }\n",
       "\n",
       "    .dataframe tbody tr th {\n",
       "        vertical-align: top;\n",
       "    }\n",
       "\n",
       "    .dataframe thead th {\n",
       "        text-align: right;\n",
       "    }\n",
       "</style>\n",
       "<table border=\"1\" class=\"dataframe\">\n",
       "  <thead>\n",
       "    <tr style=\"text-align: right;\">\n",
       "      <th></th>\n",
       "      <th>Comment</th>\n",
       "      <th>sentiment_score</th>\n",
       "      <th>Cleaned_Comment</th>\n",
       "      <th>text_len</th>\n",
       "    </tr>\n",
       "  </thead>\n",
       "  <tbody>\n",
       "    <tr>\n",
       "      <th>42886</th>\n",
       "      <td>Doesn't matter if the car is with you, they wi...</td>\n",
       "      <td>1</td>\n",
       "      <td>n't matter car track locate wherever happens t...</td>\n",
       "      <td>117</td>\n",
       "    </tr>\n",
       "    <tr>\n",
       "      <th>37489</th>\n",
       "      <td>Unfortunately mine are mostly short trips. Bes...</td>\n",
       "      <td>0</td>\n",
       "      <td>unfortunately mine mostly short trips best far...</td>\n",
       "      <td>127</td>\n",
       "    </tr>\n",
       "    <tr>\n",
       "      <th>26630</th>\n",
       "      <td>Having looked at a number of YouTube videos on...</td>\n",
       "      <td>0</td>\n",
       "      <td>looked number youtube videos 2020 x3 've notic...</td>\n",
       "      <td>366</td>\n",
       "    </tr>\n",
       "    <tr>\n",
       "      <th>10542</th>\n",
       "      <td>donkmeister said:SidewaysSi said:Triumph Man s...</td>\n",
       "      <td>1</td>\n",
       "      <td>donkmeister said sidewayssi said triumph man s...</td>\n",
       "      <td>1008</td>\n",
       "    </tr>\n",
       "    <tr>\n",
       "      <th>35357</th>\n",
       "      <td>ok cheers i was thinking there shouldnt be too...</td>\n",
       "      <td>1</td>\n",
       "      <td>ok cheers thinking shouldnt much difference</td>\n",
       "      <td>43</td>\n",
       "    </tr>\n",
       "    <tr>\n",
       "      <th>...</th>\n",
       "      <td>...</td>\n",
       "      <td>...</td>\n",
       "      <td>...</td>\n",
       "      <td>...</td>\n",
       "    </tr>\n",
       "    <tr>\n",
       "      <th>58936</th>\n",
       "      <td>Last year I sold two cars, one via WBAC and on...</td>\n",
       "      <td>2</td>\n",
       "      <td>last year sold two cars one via wbac one via m...</td>\n",
       "      <td>284</td>\n",
       "    </tr>\n",
       "    <tr>\n",
       "      <th>47492</th>\n",
       "      <td>The front of the S looks so much nicer than th...</td>\n",
       "      <td>2</td>\n",
       "      <td>front looks much nicer gts</td>\n",
       "      <td>26</td>\n",
       "    </tr>\n",
       "    <tr>\n",
       "      <th>36821</th>\n",
       "      <td>I only drive my SQ5 at weekends really - in th...</td>\n",
       "      <td>1</td>\n",
       "      <td>drive sq5 weekends really week joy 14 year old...</td>\n",
       "      <td>115</td>\n",
       "    </tr>\n",
       "    <tr>\n",
       "      <th>47239</th>\n",
       "      <td>Red is a marmite colour. I love it. Suits all ...</td>\n",
       "      <td>2</td>\n",
       "      <td>red marmite colour love suits colours except r...</td>\n",
       "      <td>55</td>\n",
       "    </tr>\n",
       "    <tr>\n",
       "      <th>34227</th>\n",
       "      <td>So, today while driving, we noticed the roar, ...</td>\n",
       "      <td>0</td>\n",
       "      <td>today driving noticed roar never heard radiato...</td>\n",
       "      <td>371</td>\n",
       "    </tr>\n",
       "  </tbody>\n",
       "</table>\n",
       "<p>12352 rows × 4 columns</p>\n",
       "</div>"
      ],
      "text/plain": [
       "                                                 Comment  sentiment_score  \\\n",
       "42886  Doesn't matter if the car is with you, they wi...                1   \n",
       "37489  Unfortunately mine are mostly short trips. Bes...                0   \n",
       "26630  Having looked at a number of YouTube videos on...                0   \n",
       "10542  donkmeister said:SidewaysSi said:Triumph Man s...                1   \n",
       "35357  ok cheers i was thinking there shouldnt be too...                1   \n",
       "...                                                  ...              ...   \n",
       "58936  Last year I sold two cars, one via WBAC and on...                2   \n",
       "47492  The front of the S looks so much nicer than th...                2   \n",
       "36821  I only drive my SQ5 at weekends really - in th...                1   \n",
       "47239  Red is a marmite colour. I love it. Suits all ...                2   \n",
       "34227  So, today while driving, we noticed the roar, ...                0   \n",
       "\n",
       "                                         Cleaned_Comment  text_len  \n",
       "42886  n't matter car track locate wherever happens t...       117  \n",
       "37489  unfortunately mine mostly short trips best far...       127  \n",
       "26630  looked number youtube videos 2020 x3 've notic...       366  \n",
       "10542  donkmeister said sidewayssi said triumph man s...      1008  \n",
       "35357        ok cheers thinking shouldnt much difference        43  \n",
       "...                                                  ...       ...  \n",
       "58936  last year sold two cars one via wbac one via m...       284  \n",
       "47492                         front looks much nicer gts        26  \n",
       "36821  drive sq5 weekends really week joy 14 year old...       115  \n",
       "47239  red marmite colour love suits colours except r...        55  \n",
       "34227  today driving noticed roar never heard radiato...       371  \n",
       "\n",
       "[12352 rows x 4 columns]"
      ]
     },
     "execution_count": 31,
     "metadata": {},
     "output_type": "execute_result"
    }
   ],
   "source": [
    "test_df"
   ]
  },
  {
   "cell_type": "code",
   "execution_count": 32,
   "metadata": {
    "scrolled": true
   },
   "outputs": [
    {
     "data": {
      "text/plain": [
       "sentiment_score\n",
       "0    11065\n",
       "2     9331\n",
       "1     8352\n",
       "Name: count, dtype: int64"
      ]
     },
     "execution_count": 32,
     "metadata": {},
     "output_type": "execute_result"
    }
   ],
   "source": [
    "clean_df['sentiment_score'].value_counts()"
   ]
  },
  {
   "cell_type": "code",
   "execution_count": 65,
   "metadata": {},
   "outputs": [
    {
     "data": {
      "image/png": "[encoded data removed]",
      "text/plain": [
       "<Figure size 800x800 with 1 Axes>"
      ]
     },
     "metadata": {},
     "output_type": "display_data"
    }
   ],
   "source": [
    "# Ensure 'sentiment_score' contains only 0, 1, or 2\n",
    "clean_df = clean_df[clean_df['sentiment_score'].isin([0, 1, 2])]\n",
    "\n",
    "# Get counts for each sentiment score\n",
    "counts = clean_df['sentiment_score'].value_counts()\n",
    "\n",
    "# Specify colors for each score\n",
    "colors = {0: '#f86c6b', 1: '#e0e0e0', 2: 'skyblue'}\n",
    "\n",
    "# Create a pie chart\n",
    "plt.figure(figsize=(8, 8))\n",
    "plt.pie(counts.values, labels=counts.index, colors=[colors[i] for i in counts.index], autopct='%1.1f%%', startangle=90, wedgeprops=dict(width=0.3, edgecolor='w'))\n",
    "\n",
    "# Draw a white circle at the center to create a donut chart\n",
    "center_circle = plt.Circle((0, 0), 0.70, fc='white')\n",
    "fig = plt.gcf()\n",
    "fig.gca().add_artist(center_circle)\n",
    "\n",
    "plt.title('Donut Chart of Sentiment Score')\n",
    "plt.axis('equal')  # Equal aspect ratio ensures that pie is drawn as a circle.\n",
    "plt.show()\n"
   ]
  },
  {
   "cell_type": "markdown",
   "metadata": {},
   "source": [
    "# ****"
   ]
  },
  {
   "cell_type": "markdown",
   "metadata": {},
   "source": [
    "# Train-Validation split"
   ]
  },
  {
   "cell_type": "code",
   "execution_count": 33,
   "metadata": {},
   "outputs": [],
   "source": [
    "X = clean_df['Cleaned_Comment'].values\n",
    "y = clean_df['sentiment_score'].values\n",
    "X_train, X_valid, y_train, y_valid = train_test_split(X, y, test_size=0.1, stratify=y, random_state=seed)\n",
    "\n",
    "X_test = test_df['Cleaned_Comment'].values\n",
    "y_test = test_df['sentiment_score'].values"
   ]
  },
  {
   "cell_type": "markdown",
   "metadata": {},
   "source": [
    "# Oversampling training data"
   ]
  },
  {
   "cell_type": "code",
   "execution_count": 34,
   "metadata": {},
   "outputs": [],
   "source": [
    "ros = RandomOverSampler()\n",
    "X_train_resampled, y_train_resampled = ros.fit_resample(X_train.reshape(-1, 1), y_train);\n",
    "X_train_resampled = [x[0] for x in X_train_resampled]"
   ]
  },
  {
   "cell_type": "code",
   "execution_count": 35,
   "metadata": {
    "scrolled": true
   },
   "outputs": [
    {
     "name": "stdout",
     "output_type": "stream",
     "text": [
      "Value counts for y_train:\n",
      "Value: 0, Count: 9958\n",
      "Value: 1, Count: 7517\n",
      "Value: 2, Count: 8398\n",
      "\n",
      "Value counts for y_train_resampled:\n",
      "Value: 0, Count: 9958\n",
      "Value: 1, Count: 9958\n",
      "Value: 2, Count: 9958\n"
     ]
    }
   ],
   "source": [
    "# Display value counts for y_train\n",
    "print(\"Value counts for y_train:\")\n",
    "unique_values_train, counts_train = np.unique(y_train, return_counts=True)\n",
    "for value, count in zip(unique_values_train, counts_train):\n",
    "    print(f\"Value: {value}, Count: {count}\")\n",
    "print()\n",
    "\n",
    "# Display value counts for y_train_resampled\n",
    "print(\"Value counts for y_train_resampled:\")\n",
    "unique_values_resampled, counts_resampled = np.unique(y_train_resampled, return_counts=True)\n",
    "for value, count in zip(unique_values_resampled, counts_resampled):\n",
    "    print(f\"Value: {value}, Count: {count}\")\n"
   ]
  },
  {
   "cell_type": "code",
   "execution_count": null,
   "metadata": {},
   "outputs": [],
   "source": []
  },
  {
   "cell_type": "markdown",
   "metadata": {},
   "source": [
    "# Baseline model: Naive Bayes Classifier"
   ]
  },
  {
   "cell_type": "code",
   "execution_count": 36,
   "metadata": {},
   "outputs": [],
   "source": [
    "# Label Encoding y\n",
    "le = LabelEncoder()\n",
    "y_train_le = le.fit_transform(y_train_resampled)\n",
    "y_valid_le = le.transform(y_valid)\n",
    "y_test_le = le.transform(y_test)\n",
    "\n",
    "# Count Vectorization and TF-IDF Transformation\n",
    "clf = CountVectorizer()\n",
    "X_train_cv = clf.fit_transform(X_train_resampled)\n",
    "X_valid_cv = clf.transform(X_valid)\n",
    "X_test_cv = clf.transform(X_test)\n",
    "\n",
    "tf_transformer = TfidfTransformer(use_idf=True).fit(X_train_cv)\n",
    "X_train_tf = tf_transformer.transform(X_train_cv)\n",
    "X_valid_tf = tf_transformer.transform(X_valid_cv)\n",
    "X_test_tf = tf_transformer.transform(X_test_cv)\n",
    "\n",
    "# Naive Bayes Classifier\n",
    "nb_clf = MultinomialNB()\n",
    "nb_clf.fit(X_train_tf, y_train_le)\n",
    "nb_pred = nb_clf.predict(X_test_tf)"
   ]
  },
  {
   "cell_type": "code",
   "execution_count": 37,
   "metadata": {},
   "outputs": [],
   "source": [
    "# Count Vectorization and TF-IDF Transformation\n",
    "clf = CountVectorizer()\n",
    "X_train_cv = clf.fit_transform(X_train_resampled)\n",
    "X_valid_cv = clf.transform(X_valid)\n",
    "X_test_cv = clf.transform(X_test)\n",
    "\n",
    "tf_transformer = TfidfTransformer(use_idf=True).fit(X_train_cv)\n",
    "X_train_tf = tf_transformer.transform(X_train_cv)\n",
    "X_valid_tf = tf_transformer.transform(X_valid_cv)\n",
    "X_test_tf = tf_transformer.transform(X_test_cv)\n",
    "\n",
    "# Naive Bayes Classifier\n",
    "nb_clf = MultinomialNB()\n",
    "nb_clf.fit(X_train_tf, y_train_le)\n",
    "nb_pred = nb_clf.predict(X_test_tf)"
   ]
  },
  {
   "cell_type": "code",
   "execution_count": 38,
   "metadata": {},
   "outputs": [],
   "source": [
    "nb_pred = nb_clf.predict(X_test_tf)"
   ]
  },
  {
   "cell_type": "code",
   "execution_count": 39,
   "metadata": {
    "scrolled": true
   },
   "outputs": [
    {
     "name": "stdout",
     "output_type": "stream",
     "text": [
      "\tClassification Report for Naive Bayes:\n",
      "\n",
      "               precision    recall  f1-score   support\n",
      "\n",
      "    Negative       0.61      0.60      0.60      4764\n",
      "     Neutral       0.47      0.51      0.49      3568\n",
      "    Positive       0.57      0.54      0.56      4020\n",
      "\n",
      "    accuracy                           0.55     12352\n",
      "   macro avg       0.55      0.55      0.55     12352\n",
      "weighted avg       0.56      0.55      0.55     12352\n",
      "\n"
     ]
    }
   ],
   "source": [
    "print('\\tClassification Report for Naive Bayes:\\n\\n',classification_report(y_test_le,nb_pred, target_names=['Negative', 'Neutral', 'Positive']))"
   ]
  },
  {
   "cell_type": "markdown",
   "metadata": {},
   "source": [
    "# Support Vector Machine Classifier"
   ]
  },
  {
   "cell_type": "code",
   "execution_count": 41,
   "metadata": {},
   "outputs": [],
   "source": [
    "# Count Vectorization and TF-IDF Transformation\n",
    "clf = CountVectorizer()\n",
    "X_train_cv = clf.fit_transform(X_train_resampled)\n",
    "X_valid_cv = clf.transform(X_valid)\n",
    "X_test_cv = clf.transform(X_test)\n",
    "\n",
    "tf_transformer = TfidfTransformer(use_idf=True).fit(X_train_cv)\n",
    "X_train_tf = tf_transformer.transform(X_train_cv)\n",
    "X_valid_tf = tf_transformer.transform(X_valid_cv)\n",
    "X_test_tf = tf_transformer.transform(X_test_cv)\n"
   ]
  },
  {
   "cell_type": "code",
   "execution_count": 42,
   "metadata": {
    "scrolled": true
   },
   "outputs": [
    {
     "name": "stdout",
     "output_type": "stream",
     "text": [
      "              precision    recall  f1-score   support\n",
      "\n",
      "           0       0.62      0.62      0.62      4764\n",
      "           1       0.48      0.49      0.49      3568\n",
      "           2       0.57      0.57      0.57      4020\n",
      "\n",
      "    accuracy                           0.57     12352\n",
      "   macro avg       0.56      0.56      0.56     12352\n",
      "weighted avg       0.57      0.57      0.57     12352\n",
      "\n"
     ]
    }
   ],
   "source": [
    "# Support Vector Machine Classifier\n",
    "svm_clf = LinearSVC(max_iter=10000) # max_iter can be adjusted based on convergence requirements\n",
    "svm_clf.fit(X_train_tf, y_train_le)\n",
    "svm_pred = svm_clf.predict(X_test_tf)\n",
    "\n",
    "# Optional: Check the performance using classification report\n",
    "print(classification_report(y_test_le, svm_pred))\n"
   ]
  },
  {
   "cell_type": "markdown",
   "metadata": {},
   "source": [
    "#  Random Forest Classifier"
   ]
  },
  {
   "cell_type": "code",
   "execution_count": 44,
   "metadata": {},
   "outputs": [
    {
     "name": "stdout",
     "output_type": "stream",
     "text": [
      "              precision    recall  f1-score   support\n",
      "\n",
      "           0       0.56      0.71      0.63      4764\n",
      "           1       0.52      0.43      0.47      3568\n",
      "           2       0.60      0.51      0.55      4020\n",
      "\n",
      "    accuracy                           0.56     12352\n",
      "   macro avg       0.56      0.55      0.55     12352\n",
      "weighted avg       0.56      0.56      0.56     12352\n",
      "\n"
     ]
    }
   ],
   "source": [
    "# Random Forest Classifier\n",
    "from sklearn.ensemble import RandomForestClassifier\n",
    "rf_clf = RandomForestClassifier(n_estimators=100, random_state=42) # You can adjust the number of trees using n_estimators\n",
    "rf_clf.fit(X_train_tf, y_train_le)\n",
    "rf_pred = rf_clf.predict(X_test_tf)\n",
    "\n",
    "# Check the performance using classification report\n",
    "print(classification_report(y_test_le, rf_pred))\n"
   ]
  },
  {
   "cell_type": "code",
   "execution_count": null,
   "metadata": {},
   "outputs": [],
   "source": []
  },
  {
   "cell_type": "markdown",
   "metadata": {},
   "source": [
    "# Classification Matrix Comparison"
   ]
  },
  {
   "cell_type": "code",
   "execution_count": null,
   "metadata": {},
   "outputs": [],
   "source": [
    "fig, ax = plt.subplots(1,2,figsize=(18,9))\n",
    "\n",
    "labels = ['Negative', 'Neutral', 'Positive']\n",
    "plt.suptitle('Sentiment Analysis Comparison\\n Confusion Matrix', fontsize=20)\n",
    "\n",
    "\n",
    "sns.heatmap(confusion_matrix(y_test.argmax(1),y_pred_bert.argmax(1)), annot=True, cmap=\"Blues\", fmt='g', cbar=False, ax=ax[0], annot_kws={\"size\":25})\n",
    "\n",
    "ax[0].set_title('BERT Classifier', fontsize=20)\n",
    "ax[0].set_yticklabels(labels, fontsize=17);\n",
    "ax[0].set_xticklabels(labels, fontsize=17);\n",
    "ax[0].set_ylabel('Test', fontsize=20)\n",
    "ax[0].set_xlabel('Predicted', fontsize=20)\n",
    "\n",
    "sns.heatmap(confusion_matrix(y_test.argmax(1),y_pred_roberta.argmax(1)), annot=True, cmap=\"Blues\", fmt='g', cbar=False, ax=ax[1], annot_kws={\"size\":25})\n",
    "ax[1].set_title('RoBERTa Classifier', fontsize=20)\n",
    "ax[1].set_yticklabels(labels, fontsize=17);\n",
    "ax[1].set_xticklabels(labels, fontsize=17);\n",
    "ax[1].set_ylabel('Test', fontsize=20)\n",
    "ax[1].set_xlabel('Predicted', fontsize=20)\n",
    "\n",
    "\n",
    "plt.show()"
   ]
  },
  {
   "cell_type": "code",
   "execution_count": null,
   "metadata": {},
   "outputs": [],
   "source": []
  }
 ],
 "metadata": {
  "colab": {
   "provenance": []
  },
  "kernelspec": {
   "display_name": "Python 3 (ipykernel)",
   "language": "python",
   "name": "python3"
  },
  "language_info": {
   "codemirror_mode": {
    "name": "ipython",
    "version": 3
   },
   "file_extension": ".py",
   "mimetype": "text/x-python",
   "name": "python",
   "nbconvert_exporter": "python",
   "pygments_lexer": "ipython3",
   "version": "3.10.9"
  }
 },
 "nbformat": 4,
 "nbformat_minor": 1
}
