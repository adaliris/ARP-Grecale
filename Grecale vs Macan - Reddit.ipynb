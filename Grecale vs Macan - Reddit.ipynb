{
 "cells": [
  {
   "cell_type": "code",
   "execution_count": 134,
   "id": "e2cadb24",
   "metadata": {},
   "outputs": [],
   "source": [
    "import praw\n",
    "import pandas as pd"
   ]
  },
  {
   "cell_type": "code",
   "execution_count": 135,
   "id": "8c3f81f5",
   "metadata": {},
   "outputs": [],
   "source": [
    "reddit = praw.Reddit(\n",
    "    client_id='qTbI8IM6KPnyoL_gy2uP7A',\n",
    "    client_secret='BAerlcDOYSOxjP03a_FFObkLOMCXkQ',\n",
    "    user_agent='maserati'\n",
    ")"
   ]
  },
  {
   "cell_type": "code",
   "execution_count": 136,
   "id": "e8ca555d",
   "metadata": {},
   "outputs": [],
   "source": [
    "search_query = 'grecale vs macan'  # Change this to your desired search query\n",
    "submissions = reddit.subreddit('all').search(search_query, limit=300)\n"
   ]
  },
  {
   "cell_type": "code",
   "execution_count": 137,
   "id": "129dd1d8",
   "metadata": {},
   "outputs": [],
   "source": [
    "# Create an empty list to store the submission data\n",
    "submission_data = []\n",
    "\n",
    "for i, submission in enumerate(submissions, 1):\n",
    "    if 'grecale' in submission.title.lower() and 'macan' in submission.title.lower():\n",
    "        submission_info = {\n",
    "            \"Submission Number\": i,\n",
    "            \"Submission Title\": submission.title,\n",
    "            \"Author\": submission.author,\n",
    "            \"Number of Comments\": submission.num_comments,\n",
    "            \"Submission ID\": submission.id\n",
    "        }\n",
    "        submission_data.append(submission_info)\n"
   ]
  },
  {
   "cell_type": "code",
   "execution_count": 138,
   "id": "ba41a071",
   "metadata": {},
   "outputs": [],
   "source": [
    "# Create a pandas DataFrame from the submission data\n",
    "df = pd.DataFrame(submission_data)"
   ]
  },
  {
   "cell_type": "code",
   "execution_count": 139,
   "id": "ee57dca6",
   "metadata": {},
   "outputs": [
    {
     "name": "stdout",
     "output_type": "stream",
     "text": [
      "   Submission Number                                   Submission Title  \\\n",
      "0                  1        Maserati grecale vs porsche macan both base   \n",
      "1                  2             2023 Maserati Grecale vs Porsche Macan   \n",
      "2                  3  Fiancée is trying to decide what’s best for pe...   \n",
      "3                  4  Maserati Grecale: Stylish SUV to Rival Macan U...   \n",
      "4                  5  Actualité : Maserati Grecale & Grecale Folgore...   \n",
      "5                  6        The Maserati Grecale Is Italy’s Macan Rival   \n",
      "6                  7    2023 Maserati Grecale Targets the Porsche Macan   \n",
      "7                  8  Maserati's New Grecale SUV Is Ready to Take On...   \n",
      "8                  9  2023 Maserati Grecale SUV Takes Aim at Porsche...   \n",
      "9                 10        The Maserati Grecale Is Italy’s Macan Rival   \n",
      "\n",
      "                 Author  Number of Comments Submission ID  \n",
      "0                 paxje                   8       12gotze  \n",
      "1            CarsHunter                   0        tr41ve  \n",
      "2  manthatsocietyforgot                   7       10tvt3f  \n",
      "3       SurferPunkIrish                   8        sv26cf  \n",
      "4           romain34230                   0        tmdwtu  \n",
      "5       SurferPunkIrish                   2        tk6rdw  \n",
      "6  NewsElfForEnterprise                   0        tx450v  \n",
      "7           romain34230                   0        tkuh86  \n",
      "8       manofmanytastes                   0        tkhk4u  \n",
      "9  NewsElfForEnterprise                   1        tkdg8w  \n"
     ]
    }
   ],
   "source": [
    "print(df)"
   ]
  },
  {
   "cell_type": "code",
   "execution_count": 140,
   "id": "f5fa7290",
   "metadata": {},
   "outputs": [],
   "source": [
    "# downloading a csv file\n",
    "df.to_csv('grecalevsmacansubmission_dataset.csv', index=False)"
   ]
  },
  {
   "cell_type": "code",
   "execution_count": 128,
   "id": "d3466151",
   "metadata": {},
   "outputs": [],
   "source": [
    "# Sort the DataFrame by the number of comments in descending order and select the top 10 submissions\n",
    "top_10_submissions = df.sort_values(by='Number of Comments', ascending=False).head(10)\n"
   ]
  },
  {
   "cell_type": "code",
   "execution_count": 129,
   "id": "df084521",
   "metadata": {},
   "outputs": [],
   "source": [
    "# Retrieve the submission IDs of the top 10 submissions\n",
    "submission_ids = top_10_submissions['Submission ID'].tolist()\n"
   ]
  },
  {
   "cell_type": "code",
   "execution_count": 130,
   "id": "467421d9",
   "metadata": {},
   "outputs": [],
   "source": [
    "# Create an empty list to store the comment data\n",
    "comment_data = []\n",
    "\n",
    "# Loop through the submission IDs and retrieve the comments for each submission\n",
    "for submission_id in submission_ids:\n",
    "    submission = reddit.submission(id=submission_id)\n",
    "    submission.comments.replace_more(limit=None)  # Retrieve all comments (including nested comments)\n",
    "    for comment in submission.comments.list():\n",
    "        comment_info = {\n",
    "            \"Submission ID\": submission_id,\n",
    "            \"Comment\": comment.body,\n",
    "            \"Author\": comment.author\n",
    "        }\n",
    "        comment_data.append(comment_info)\n"
   ]
  },
  {
   "cell_type": "code",
   "execution_count": 131,
   "id": "35c23fe3",
   "metadata": {},
   "outputs": [],
   "source": [
    "# Create a pandas DataFrame from the comment data\n",
    "comments_df = pd.DataFrame(comment_data)"
   ]
  },
  {
   "cell_type": "code",
   "execution_count": 132,
   "id": "37e9e4ba",
   "metadata": {},
   "outputs": [
    {
     "name": "stdout",
     "output_type": "stream",
     "text": [
      "   Submission ID                                            Comment  \\\n",
      "0        12gotze                                      Macan all day   \n",
      "1        12gotze      Maseratis are pretty to look at, but not own.   \n",
      "2        12gotze  Personally the Macan is nicer, but the Levante...   \n",
      "3        12gotze  The Grecale is an embarrassment. Get a Stelvio...   \n",
      "4        12gotze  I really enjoyed driving the Grecale Modena. N...   \n",
      "5        12gotze  Coming from a person who owned a Macan S for 2...   \n",
      "6        12gotze  I had mine couple of weeks back but i saw one ...   \n",
      "7        12gotze  Are you saying this because of resale value?\\n...   \n",
      "8         sv26cf  I'm rocking with anything that will help maser...   \n",
      "9         sv26cf  I honestly would rather spend my money on a ML...   \n",
      "10        sv26cf  It's gonna take a lot of deals and quality Tes...   \n",
      "11        sv26cf  How is it a rival? They are made by the same c...   \n",
      "12        sv26cf  I feel ya. \\n\\nFormer Quattroporte owner here....   \n",
      "13        sv26cf  Maserati owned by stellanis, porsche owned by ...   \n",
      "14        sv26cf         Shit I might buy a Grecale... whats wrong?   \n",
      "15        sv26cf  You're 100% correct. I brainfarted badly confl...   \n",
      "16       10tvt3f  As much as I’m starting to really get into and...   \n",
      "17       10tvt3f  M440i X Drive !!!! Fantastic car , powerful en...   \n",
      "18       10tvt3f  Macan has the best resale and performance. I h...   \n",
      "19       10tvt3f  You've really gotta go check each one out. The...   \n",
      "20       10tvt3f                       A used GSF or the new rx500h   \n",
      "21       10tvt3f  Beware of the Porsche Macan. My Macan S has en...   \n",
      "22        tk6rdw  Hmmm, to me the front lights look reminiscent ...   \n",
      "23        tk6rdw  Personally, I don't like any of the smaller SU...   \n",
      "24        tkdg8w  More coverage at:\\r\\n\\r\\n\\r\\n\\r\\n*  [Maserati ...   \n",
      "\n",
      "                  Author  \n",
      "0         bigdog24681012  \n",
      "1        Tiny_ChingChong  \n",
      "2            athleticcdn  \n",
      "3            CarolinaRS6  \n",
      "4         manbearpig0101  \n",
      "5         Own-Object1520  \n",
      "6                  paxje  \n",
      "7                  paxje  \n",
      "8            NarcoticCow  \n",
      "9   LongjumpingFormal287  \n",
      "10     lambo_abdelfattah  \n",
      "11        i_drink_petrol  \n",
      "12               dadzcad  \n",
      "13           BuraakGTi10  \n",
      "14                L0L303  \n",
      "15        i_drink_petrol  \n",
      "16           TwinTurbo53  \n",
      "17                badbla  \n",
      "18                  None  \n",
      "19                 JaKr8  \n",
      "20                  None  \n",
      "21         MacanFlooding  \n",
      "22               Mad4it2  \n",
      "23                HOOEY_  \n",
      "24   MultiSourceNews_Bot  \n"
     ]
    }
   ],
   "source": [
    "# Print the DataFrame with comments\n",
    "print(comments_df)"
   ]
  },
  {
   "cell_type": "code",
   "execution_count": 133,
   "id": "9e3e2600",
   "metadata": {},
   "outputs": [],
   "source": [
    "# downloading a csv file\n",
    "comments_df.to_csv('macancomments_dataset.csv', index=False)"
   ]
  }
 ],
 "metadata": {
  "kernelspec": {
   "display_name": "Python 3 (ipykernel)",
   "language": "python",
   "name": "python3"
  },
  "language_info": {
   "codemirror_mode": {
    "name": "ipython",
    "version": 3
   },
   "file_extension": ".py",
   "mimetype": "text/x-python",
   "name": "python",
   "nbconvert_exporter": "python",
   "pygments_lexer": "ipython3",
   "version": "3.9.12"
  }
 },
 "nbformat": 4,
 "nbformat_minor": 5
}
